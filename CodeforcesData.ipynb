{
  "nbformat": 4,
  "nbformat_minor": 0,
  "metadata": {
    "colab": {
      "provenance": [],
      "authorship_tag": "ABX9TyM/icJEWxq+vTlo68KDi3sZ",
      "include_colab_link": true
    },
    "kernelspec": {
      "name": "python3",
      "display_name": "Python 3"
    },
    "language_info": {
      "name": "python"
    }
  },
  "cells": [
    {
      "cell_type": "markdown",
      "metadata": {
        "id": "view-in-github",
        "colab_type": "text"
      },
      "source": [
        "<a href=\"https://colab.research.google.com/github/Likhitha33/DATA-ANALYSIS/blob/main/CodeforcesData.ipynb\" target=\"_parent\"><img src=\"https://colab.research.google.com/assets/colab-badge.svg\" alt=\"Open In Colab\"/></a>"
      ]
    },
    {
      "cell_type": "code",
      "execution_count": 1,
      "metadata": {
        "id": "YsO8wvXqyUVd"
      },
      "outputs": [],
      "source": [
        "import numpy as np\n",
        "import pandas as pd\n",
        "import requests\n",
        "import json\n",
        "from bs4 import BeautifulSoup "
      ]
    },
    {
      "cell_type": "markdown",
      "source": [
        "**GETTING DATA FROM CODEFORCES API**"
      ],
      "metadata": {
        "id": "xNDLc-wjyhU2"
      }
    },
    {
      "cell_type": "markdown",
      "source": [
        "Data can be extracted in three forms.\n",
        "1.   Using API key \n",
        "2.   Using requests library\n",
        "3.   Using webscraping\n",
        "\n",
        "\n",
        "\n",
        "\n",
        "\n"
      ],
      "metadata": {
        "id": "no1LlGrVyqOG"
      }
    },
    {
      "cell_type": "markdown",
      "source": [
        "First Using API key. Get the Api key from the website and store it in variable."
      ],
      "metadata": {
        "id": "29HN2BkDzt2v"
      }
    },
    {
      "cell_type": "code",
      "source": [
        "API_KEY='638414bd8870635963f080154602d9744894286b'"
      ],
      "metadata": {
        "id": "4G2I8aMdygnz"
      },
      "execution_count": 2,
      "outputs": []
    },
    {
      "cell_type": "markdown",
      "source": [
        "Using requests library. Get the Http request from the required website.We get the data in json format.We need to convert this data into pandas dataframe for further steps."
      ],
      "metadata": {
        "id": "bnVoBC7s3UOo"
      }
    },
    {
      "cell_type": "markdown",
      "source": [
        "**CONTEST RATING DATA**"
      ],
      "metadata": {
        "id": "R9dDG7x2CQTC"
      }
    },
    {
      "cell_type": "code",
      "source": [
        "#Created Pandas Dataframe to store the contest rating data.\n",
        "contest_rating_df=pd.DataFrame(columns=['contestId','handle_name','old_rating','new_rating','rank'])\n",
        "contest_rating_df"
      ],
      "metadata": {
        "colab": {
          "base_uri": "https://localhost:8080/",
          "height": 49
        },
        "id": "W-a6C5Pp4Dbv",
        "outputId": "cffe836e-e0b7-426b-d91e-71b5881999b2"
      },
      "execution_count": 3,
      "outputs": [
        {
          "output_type": "execute_result",
          "data": {
            "text/plain": [
              "Empty DataFrame\n",
              "Columns: [contestId, handle_name, old_rating, new_rating, rank]\n",
              "Index: []"
            ],
            "text/html": [
              "\n",
              "  <div id=\"df-48c7364e-537c-48ff-8598-8dd67212693f\">\n",
              "    <div class=\"colab-df-container\">\n",
              "      <div>\n",
              "<style scoped>\n",
              "    .dataframe tbody tr th:only-of-type {\n",
              "        vertical-align: middle;\n",
              "    }\n",
              "\n",
              "    .dataframe tbody tr th {\n",
              "        vertical-align: top;\n",
              "    }\n",
              "\n",
              "    .dataframe thead th {\n",
              "        text-align: right;\n",
              "    }\n",
              "</style>\n",
              "<table border=\"1\" class=\"dataframe\">\n",
              "  <thead>\n",
              "    <tr style=\"text-align: right;\">\n",
              "      <th></th>\n",
              "      <th>contestId</th>\n",
              "      <th>handle_name</th>\n",
              "      <th>old_rating</th>\n",
              "      <th>new_rating</th>\n",
              "      <th>rank</th>\n",
              "    </tr>\n",
              "  </thead>\n",
              "  <tbody>\n",
              "  </tbody>\n",
              "</table>\n",
              "</div>\n",
              "      <button class=\"colab-df-convert\" onclick=\"convertToInteractive('df-48c7364e-537c-48ff-8598-8dd67212693f')\"\n",
              "              title=\"Convert this dataframe to an interactive table.\"\n",
              "              style=\"display:none;\">\n",
              "        \n",
              "  <svg xmlns=\"http://www.w3.org/2000/svg\" height=\"24px\"viewBox=\"0 0 24 24\"\n",
              "       width=\"24px\">\n",
              "    <path d=\"M0 0h24v24H0V0z\" fill=\"none\"/>\n",
              "    <path d=\"M18.56 5.44l.94 2.06.94-2.06 2.06-.94-2.06-.94-.94-2.06-.94 2.06-2.06.94zm-11 1L8.5 8.5l.94-2.06 2.06-.94-2.06-.94L8.5 2.5l-.94 2.06-2.06.94zm10 10l.94 2.06.94-2.06 2.06-.94-2.06-.94-.94-2.06-.94 2.06-2.06.94z\"/><path d=\"M17.41 7.96l-1.37-1.37c-.4-.4-.92-.59-1.43-.59-.52 0-1.04.2-1.43.59L10.3 9.45l-7.72 7.72c-.78.78-.78 2.05 0 2.83L4 21.41c.39.39.9.59 1.41.59.51 0 1.02-.2 1.41-.59l7.78-7.78 2.81-2.81c.8-.78.8-2.07 0-2.86zM5.41 20L4 18.59l7.72-7.72 1.47 1.35L5.41 20z\"/>\n",
              "  </svg>\n",
              "      </button>\n",
              "      \n",
              "  <style>\n",
              "    .colab-df-container {\n",
              "      display:flex;\n",
              "      flex-wrap:wrap;\n",
              "      gap: 12px;\n",
              "    }\n",
              "\n",
              "    .colab-df-convert {\n",
              "      background-color: #E8F0FE;\n",
              "      border: none;\n",
              "      border-radius: 50%;\n",
              "      cursor: pointer;\n",
              "      display: none;\n",
              "      fill: #1967D2;\n",
              "      height: 32px;\n",
              "      padding: 0 0 0 0;\n",
              "      width: 32px;\n",
              "    }\n",
              "\n",
              "    .colab-df-convert:hover {\n",
              "      background-color: #E2EBFA;\n",
              "      box-shadow: 0px 1px 2px rgba(60, 64, 67, 0.3), 0px 1px 3px 1px rgba(60, 64, 67, 0.15);\n",
              "      fill: #174EA6;\n",
              "    }\n",
              "\n",
              "    [theme=dark] .colab-df-convert {\n",
              "      background-color: #3B4455;\n",
              "      fill: #D2E3FC;\n",
              "    }\n",
              "\n",
              "    [theme=dark] .colab-df-convert:hover {\n",
              "      background-color: #434B5C;\n",
              "      box-shadow: 0px 1px 3px 1px rgba(0, 0, 0, 0.15);\n",
              "      filter: drop-shadow(0px 1px 2px rgba(0, 0, 0, 0.3));\n",
              "      fill: #FFFFFF;\n",
              "    }\n",
              "  </style>\n",
              "\n",
              "      <script>\n",
              "        const buttonEl =\n",
              "          document.querySelector('#df-48c7364e-537c-48ff-8598-8dd67212693f button.colab-df-convert');\n",
              "        buttonEl.style.display =\n",
              "          google.colab.kernel.accessAllowed ? 'block' : 'none';\n",
              "\n",
              "        async function convertToInteractive(key) {\n",
              "          const element = document.querySelector('#df-48c7364e-537c-48ff-8598-8dd67212693f');\n",
              "          const dataTable =\n",
              "            await google.colab.kernel.invokeFunction('convertToInteractive',\n",
              "                                                     [key], {});\n",
              "          if (!dataTable) return;\n",
              "\n",
              "          const docLinkHtml = 'Like what you see? Visit the ' +\n",
              "            '<a target=\"_blank\" href=https://colab.research.google.com/notebooks/data_table.ipynb>data table notebook</a>'\n",
              "            + ' to learn more about interactive tables.';\n",
              "          element.innerHTML = '';\n",
              "          dataTable['output_type'] = 'display_data';\n",
              "          await google.colab.output.renderOutput(dataTable, element);\n",
              "          const docLink = document.createElement('div');\n",
              "          docLink.innerHTML = docLinkHtml;\n",
              "          element.appendChild(docLink);\n",
              "        }\n",
              "      </script>\n",
              "    </div>\n",
              "  </div>\n",
              "  "
            ]
          },
          "metadata": {},
          "execution_count": 3
        }
      ]
    },
    {
      "cell_type": "markdown",
      "source": [
        "Getting the codeforces rating data from the codeforces website."
      ],
      "metadata": {
        "id": "GEeHvrFg4Mj3"
      }
    },
    {
      "cell_type": "code",
      "source": [
        "#Data of codeforces contestId 1\n",
        "url_contest_rating='https://codeforces.com/api/contest.ratingChanges?contestId=1'\n",
        "response_rating=requests.get(url_contest_rating)\n",
        "response_rating.json()"
      ],
      "metadata": {
        "id": "wIAXMQy86n4i"
      },
      "execution_count": null,
      "outputs": []
    },
    {
      "cell_type": "markdown",
      "source": [
        "Collected handle_name,old_rating,newrating,Rank from contestId 1 to 10  from contest rating."
      ],
      "metadata": {
        "id": "remKTbsMBVUE"
      }
    },
    {
      "cell_type": "code",
      "source": [
        "#Getting the data of contestId from 1 to 10\n",
        "for i in range(1,10):\n",
        "  url_contest_rating1='https://codeforces.com/api/contest.ratingChanges?contestId='+str(i)\n",
        "  response_cr=requests.get(url_contest_rating1)\n",
        "  data=response_cr.json()\n",
        "  #converting json data to pandas dataframe\n",
        "  #Here we are only taking  attributes required for analysis\n",
        "  for contest in  data['result']:\n",
        "    contest_id=contest['contestId']\n",
        "    handle_name=contest['handle']\n",
        "    old_rating=contest['oldRating']\n",
        "    new_rating=contest['newRating']\n",
        "    rank=contest['rank']\n",
        "    \n",
        "    contest_rating_df=contest_rating_df.append({'contestId':contest_id,'handle_name':handle_name,'old_rating':old_rating,\n",
        "                                              'new_rating':new_rating,'rank':rank},ignore_index=True)"
      ],
      "metadata": {
        "id": "L2dKblFQ3Tel"
      },
      "execution_count": 5,
      "outputs": []
    },
    {
      "cell_type": "code",
      "source": [
        "contest_rating_df"
      ],
      "metadata": {
        "colab": {
          "base_uri": "https://localhost:8080/",
          "height": 424
        },
        "id": "eojvpwJC7WFt",
        "outputId": "ee26845f-f41e-4c6e-c179-96e3a6dea0a3"
      },
      "execution_count": 6,
      "outputs": [
        {
          "output_type": "execute_result",
          "data": {
            "text/plain": [
              "     contestId handle_name old_rating new_rating rank\n",
              "0            1   vepifanov       1500       1600    1\n",
              "1            1      Orfest       1500       1597    2\n",
              "2            1        NALP       1500       1593    3\n",
              "3            1      forest       1500       1590    4\n",
              "4            1         rem       1500       1580    5\n",
              "...        ...         ...        ...        ...  ...\n",
              "2392         9        TSAM       1500       1386  251\n",
              "2393         9     nep1965       1500       1386  251\n",
              "2394         9  humaneitor       1500       1386  251\n",
              "2395         9      Hernan       1500       1386  251\n",
              "2396         9    Alisher2       1500       1386  251\n",
              "\n",
              "[2397 rows x 5 columns]"
            ],
            "text/html": [
              "\n",
              "  <div id=\"df-95d83d88-b72e-4c38-9d82-378807836fd5\">\n",
              "    <div class=\"colab-df-container\">\n",
              "      <div>\n",
              "<style scoped>\n",
              "    .dataframe tbody tr th:only-of-type {\n",
              "        vertical-align: middle;\n",
              "    }\n",
              "\n",
              "    .dataframe tbody tr th {\n",
              "        vertical-align: top;\n",
              "    }\n",
              "\n",
              "    .dataframe thead th {\n",
              "        text-align: right;\n",
              "    }\n",
              "</style>\n",
              "<table border=\"1\" class=\"dataframe\">\n",
              "  <thead>\n",
              "    <tr style=\"text-align: right;\">\n",
              "      <th></th>\n",
              "      <th>contestId</th>\n",
              "      <th>handle_name</th>\n",
              "      <th>old_rating</th>\n",
              "      <th>new_rating</th>\n",
              "      <th>rank</th>\n",
              "    </tr>\n",
              "  </thead>\n",
              "  <tbody>\n",
              "    <tr>\n",
              "      <th>0</th>\n",
              "      <td>1</td>\n",
              "      <td>vepifanov</td>\n",
              "      <td>1500</td>\n",
              "      <td>1600</td>\n",
              "      <td>1</td>\n",
              "    </tr>\n",
              "    <tr>\n",
              "      <th>1</th>\n",
              "      <td>1</td>\n",
              "      <td>Orfest</td>\n",
              "      <td>1500</td>\n",
              "      <td>1597</td>\n",
              "      <td>2</td>\n",
              "    </tr>\n",
              "    <tr>\n",
              "      <th>2</th>\n",
              "      <td>1</td>\n",
              "      <td>NALP</td>\n",
              "      <td>1500</td>\n",
              "      <td>1593</td>\n",
              "      <td>3</td>\n",
              "    </tr>\n",
              "    <tr>\n",
              "      <th>3</th>\n",
              "      <td>1</td>\n",
              "      <td>forest</td>\n",
              "      <td>1500</td>\n",
              "      <td>1590</td>\n",
              "      <td>4</td>\n",
              "    </tr>\n",
              "    <tr>\n",
              "      <th>4</th>\n",
              "      <td>1</td>\n",
              "      <td>rem</td>\n",
              "      <td>1500</td>\n",
              "      <td>1580</td>\n",
              "      <td>5</td>\n",
              "    </tr>\n",
              "    <tr>\n",
              "      <th>...</th>\n",
              "      <td>...</td>\n",
              "      <td>...</td>\n",
              "      <td>...</td>\n",
              "      <td>...</td>\n",
              "      <td>...</td>\n",
              "    </tr>\n",
              "    <tr>\n",
              "      <th>2392</th>\n",
              "      <td>9</td>\n",
              "      <td>TSAM</td>\n",
              "      <td>1500</td>\n",
              "      <td>1386</td>\n",
              "      <td>251</td>\n",
              "    </tr>\n",
              "    <tr>\n",
              "      <th>2393</th>\n",
              "      <td>9</td>\n",
              "      <td>nep1965</td>\n",
              "      <td>1500</td>\n",
              "      <td>1386</td>\n",
              "      <td>251</td>\n",
              "    </tr>\n",
              "    <tr>\n",
              "      <th>2394</th>\n",
              "      <td>9</td>\n",
              "      <td>humaneitor</td>\n",
              "      <td>1500</td>\n",
              "      <td>1386</td>\n",
              "      <td>251</td>\n",
              "    </tr>\n",
              "    <tr>\n",
              "      <th>2395</th>\n",
              "      <td>9</td>\n",
              "      <td>Hernan</td>\n",
              "      <td>1500</td>\n",
              "      <td>1386</td>\n",
              "      <td>251</td>\n",
              "    </tr>\n",
              "    <tr>\n",
              "      <th>2396</th>\n",
              "      <td>9</td>\n",
              "      <td>Alisher2</td>\n",
              "      <td>1500</td>\n",
              "      <td>1386</td>\n",
              "      <td>251</td>\n",
              "    </tr>\n",
              "  </tbody>\n",
              "</table>\n",
              "<p>2397 rows × 5 columns</p>\n",
              "</div>\n",
              "      <button class=\"colab-df-convert\" onclick=\"convertToInteractive('df-95d83d88-b72e-4c38-9d82-378807836fd5')\"\n",
              "              title=\"Convert this dataframe to an interactive table.\"\n",
              "              style=\"display:none;\">\n",
              "        \n",
              "  <svg xmlns=\"http://www.w3.org/2000/svg\" height=\"24px\"viewBox=\"0 0 24 24\"\n",
              "       width=\"24px\">\n",
              "    <path d=\"M0 0h24v24H0V0z\" fill=\"none\"/>\n",
              "    <path d=\"M18.56 5.44l.94 2.06.94-2.06 2.06-.94-2.06-.94-.94-2.06-.94 2.06-2.06.94zm-11 1L8.5 8.5l.94-2.06 2.06-.94-2.06-.94L8.5 2.5l-.94 2.06-2.06.94zm10 10l.94 2.06.94-2.06 2.06-.94-2.06-.94-.94-2.06-.94 2.06-2.06.94z\"/><path d=\"M17.41 7.96l-1.37-1.37c-.4-.4-.92-.59-1.43-.59-.52 0-1.04.2-1.43.59L10.3 9.45l-7.72 7.72c-.78.78-.78 2.05 0 2.83L4 21.41c.39.39.9.59 1.41.59.51 0 1.02-.2 1.41-.59l7.78-7.78 2.81-2.81c.8-.78.8-2.07 0-2.86zM5.41 20L4 18.59l7.72-7.72 1.47 1.35L5.41 20z\"/>\n",
              "  </svg>\n",
              "      </button>\n",
              "      \n",
              "  <style>\n",
              "    .colab-df-container {\n",
              "      display:flex;\n",
              "      flex-wrap:wrap;\n",
              "      gap: 12px;\n",
              "    }\n",
              "\n",
              "    .colab-df-convert {\n",
              "      background-color: #E8F0FE;\n",
              "      border: none;\n",
              "      border-radius: 50%;\n",
              "      cursor: pointer;\n",
              "      display: none;\n",
              "      fill: #1967D2;\n",
              "      height: 32px;\n",
              "      padding: 0 0 0 0;\n",
              "      width: 32px;\n",
              "    }\n",
              "\n",
              "    .colab-df-convert:hover {\n",
              "      background-color: #E2EBFA;\n",
              "      box-shadow: 0px 1px 2px rgba(60, 64, 67, 0.3), 0px 1px 3px 1px rgba(60, 64, 67, 0.15);\n",
              "      fill: #174EA6;\n",
              "    }\n",
              "\n",
              "    [theme=dark] .colab-df-convert {\n",
              "      background-color: #3B4455;\n",
              "      fill: #D2E3FC;\n",
              "    }\n",
              "\n",
              "    [theme=dark] .colab-df-convert:hover {\n",
              "      background-color: #434B5C;\n",
              "      box-shadow: 0px 1px 3px 1px rgba(0, 0, 0, 0.15);\n",
              "      filter: drop-shadow(0px 1px 2px rgba(0, 0, 0, 0.3));\n",
              "      fill: #FFFFFF;\n",
              "    }\n",
              "  </style>\n",
              "\n",
              "      <script>\n",
              "        const buttonEl =\n",
              "          document.querySelector('#df-95d83d88-b72e-4c38-9d82-378807836fd5 button.colab-df-convert');\n",
              "        buttonEl.style.display =\n",
              "          google.colab.kernel.accessAllowed ? 'block' : 'none';\n",
              "\n",
              "        async function convertToInteractive(key) {\n",
              "          const element = document.querySelector('#df-95d83d88-b72e-4c38-9d82-378807836fd5');\n",
              "          const dataTable =\n",
              "            await google.colab.kernel.invokeFunction('convertToInteractive',\n",
              "                                                     [key], {});\n",
              "          if (!dataTable) return;\n",
              "\n",
              "          const docLinkHtml = 'Like what you see? Visit the ' +\n",
              "            '<a target=\"_blank\" href=https://colab.research.google.com/notebooks/data_table.ipynb>data table notebook</a>'\n",
              "            + ' to learn more about interactive tables.';\n",
              "          element.innerHTML = '';\n",
              "          dataTable['output_type'] = 'display_data';\n",
              "          await google.colab.output.renderOutput(dataTable, element);\n",
              "          const docLink = document.createElement('div');\n",
              "          docLink.innerHTML = docLinkHtml;\n",
              "          element.appendChild(docLink);\n",
              "        }\n",
              "      </script>\n",
              "    </div>\n",
              "  </div>\n",
              "  "
            ]
          },
          "metadata": {},
          "execution_count": 6
        }
      ]
    },
    {
      "cell_type": "markdown",
      "source": [
        "The contest_rating_df has 2397 rows and 5 columns."
      ],
      "metadata": {
        "id": "6thRnKzd7cWp"
      }
    },
    {
      "cell_type": "markdown",
      "source": [
        "Now that we have the data in required format (pandas dataframe). We have to check whether the data is clean or not."
      ],
      "metadata": {
        "id": "9EnfNETX77KO"
      }
    },
    {
      "cell_type": "markdown",
      "source": [
        "**DATA CLEANING**"
      ],
      "metadata": {
        "id": "fFQhREwu8Pr0"
      }
    },
    {
      "cell_type": "markdown",
      "source": [
        "Data cleaning is a part of the process on a data science project.\n",
        "Data cleaning is the process of fixing or removing incorrect, corrupted, incorrectly formatted, duplicate, or incomplete\n",
        "data within a dataset.\n",
        "When you clean your data, all outdated or incorrect information is gone – leaving you with the highest quality information for your analysis and\n",
        "model building."
      ],
      "metadata": {
        "id": "ouFCELbh8S7v"
      }
    },
    {
      "cell_type": "code",
      "source": [
        "contest_rating_df.dtypes"
      ],
      "metadata": {
        "colab": {
          "base_uri": "https://localhost:8080/"
        },
        "id": "gUcd8lYv-hZT",
        "outputId": "43039774-4071-4e84-fca8-0264adf0d7c8"
      },
      "execution_count": 7,
      "outputs": [
        {
          "output_type": "execute_result",
          "data": {
            "text/plain": [
              "contestId      object\n",
              "handle_name    object\n",
              "old_rating     object\n",
              "new_rating     object\n",
              "rank           object\n",
              "dtype: object"
            ]
          },
          "metadata": {},
          "execution_count": 7
        }
      ]
    },
    {
      "cell_type": "code",
      "source": [
        "contest_rating_df.isna().sum()"
      ],
      "metadata": {
        "colab": {
          "base_uri": "https://localhost:8080/"
        },
        "id": "RH0OLxay7603",
        "outputId": "82823bc5-1b01-4df7-9b33-cbdd0ed80dbb"
      },
      "execution_count": 8,
      "outputs": [
        {
          "output_type": "execute_result",
          "data": {
            "text/plain": [
              "contestId      0\n",
              "handle_name    0\n",
              "old_rating     0\n",
              "new_rating     0\n",
              "rank           0\n",
              "dtype: int64"
            ]
          },
          "metadata": {},
          "execution_count": 8
        }
      ]
    },
    {
      "cell_type": "markdown",
      "source": [
        "Thankfully data has no null values. If there are null values count is displayed and we have to make sure that data has no null values."
      ],
      "metadata": {
        "id": "QgcfmugU9_7n"
      }
    },
    {
      "cell_type": "code",
      "source": [
        "contest_rating_df=contest_rating_df.append({'contestId':np.nan,'handle_name':np.nan,'old_rating':np.nan,\n",
        "                                              'new_rating':np.nan,'rank':np.nan},ignore_index=True)\n",
        "contest_rating_df=contest_rating_df.append({'contestId':'2378','handle_name':'someHanldename','old_rating':np.nan,\n",
        "                                              'new_rating':np.nan,'rank':np.nan},ignore_index=True)\n"
      ],
      "metadata": {
        "id": "IKEFWz9U9y3c"
      },
      "execution_count": 9,
      "outputs": []
    },
    {
      "cell_type": "code",
      "source": [
        "contest_rating_df.tail(3)"
      ],
      "metadata": {
        "colab": {
          "base_uri": "https://localhost:8080/",
          "height": 143
        },
        "id": "JBLSmuqa_KzB",
        "outputId": "9252443a-8ab1-4a5e-816f-07c6872d96e9"
      },
      "execution_count": 10,
      "outputs": [
        {
          "output_type": "execute_result",
          "data": {
            "text/plain": [
              "     contestId     handle_name old_rating new_rating rank\n",
              "2396         9        Alisher2       1500       1386  251\n",
              "2397       NaN             NaN        NaN        NaN  NaN\n",
              "2398      2378  someHanldename        NaN        NaN  NaN"
            ],
            "text/html": [
              "\n",
              "  <div id=\"df-c9f08c0d-ff64-441d-b7a2-619e91093f4e\">\n",
              "    <div class=\"colab-df-container\">\n",
              "      <div>\n",
              "<style scoped>\n",
              "    .dataframe tbody tr th:only-of-type {\n",
              "        vertical-align: middle;\n",
              "    }\n",
              "\n",
              "    .dataframe tbody tr th {\n",
              "        vertical-align: top;\n",
              "    }\n",
              "\n",
              "    .dataframe thead th {\n",
              "        text-align: right;\n",
              "    }\n",
              "</style>\n",
              "<table border=\"1\" class=\"dataframe\">\n",
              "  <thead>\n",
              "    <tr style=\"text-align: right;\">\n",
              "      <th></th>\n",
              "      <th>contestId</th>\n",
              "      <th>handle_name</th>\n",
              "      <th>old_rating</th>\n",
              "      <th>new_rating</th>\n",
              "      <th>rank</th>\n",
              "    </tr>\n",
              "  </thead>\n",
              "  <tbody>\n",
              "    <tr>\n",
              "      <th>2396</th>\n",
              "      <td>9</td>\n",
              "      <td>Alisher2</td>\n",
              "      <td>1500</td>\n",
              "      <td>1386</td>\n",
              "      <td>251</td>\n",
              "    </tr>\n",
              "    <tr>\n",
              "      <th>2397</th>\n",
              "      <td>NaN</td>\n",
              "      <td>NaN</td>\n",
              "      <td>NaN</td>\n",
              "      <td>NaN</td>\n",
              "      <td>NaN</td>\n",
              "    </tr>\n",
              "    <tr>\n",
              "      <th>2398</th>\n",
              "      <td>2378</td>\n",
              "      <td>someHanldename</td>\n",
              "      <td>NaN</td>\n",
              "      <td>NaN</td>\n",
              "      <td>NaN</td>\n",
              "    </tr>\n",
              "  </tbody>\n",
              "</table>\n",
              "</div>\n",
              "      <button class=\"colab-df-convert\" onclick=\"convertToInteractive('df-c9f08c0d-ff64-441d-b7a2-619e91093f4e')\"\n",
              "              title=\"Convert this dataframe to an interactive table.\"\n",
              "              style=\"display:none;\">\n",
              "        \n",
              "  <svg xmlns=\"http://www.w3.org/2000/svg\" height=\"24px\"viewBox=\"0 0 24 24\"\n",
              "       width=\"24px\">\n",
              "    <path d=\"M0 0h24v24H0V0z\" fill=\"none\"/>\n",
              "    <path d=\"M18.56 5.44l.94 2.06.94-2.06 2.06-.94-2.06-.94-.94-2.06-.94 2.06-2.06.94zm-11 1L8.5 8.5l.94-2.06 2.06-.94-2.06-.94L8.5 2.5l-.94 2.06-2.06.94zm10 10l.94 2.06.94-2.06 2.06-.94-2.06-.94-.94-2.06-.94 2.06-2.06.94z\"/><path d=\"M17.41 7.96l-1.37-1.37c-.4-.4-.92-.59-1.43-.59-.52 0-1.04.2-1.43.59L10.3 9.45l-7.72 7.72c-.78.78-.78 2.05 0 2.83L4 21.41c.39.39.9.59 1.41.59.51 0 1.02-.2 1.41-.59l7.78-7.78 2.81-2.81c.8-.78.8-2.07 0-2.86zM5.41 20L4 18.59l7.72-7.72 1.47 1.35L5.41 20z\"/>\n",
              "  </svg>\n",
              "      </button>\n",
              "      \n",
              "  <style>\n",
              "    .colab-df-container {\n",
              "      display:flex;\n",
              "      flex-wrap:wrap;\n",
              "      gap: 12px;\n",
              "    }\n",
              "\n",
              "    .colab-df-convert {\n",
              "      background-color: #E8F0FE;\n",
              "      border: none;\n",
              "      border-radius: 50%;\n",
              "      cursor: pointer;\n",
              "      display: none;\n",
              "      fill: #1967D2;\n",
              "      height: 32px;\n",
              "      padding: 0 0 0 0;\n",
              "      width: 32px;\n",
              "    }\n",
              "\n",
              "    .colab-df-convert:hover {\n",
              "      background-color: #E2EBFA;\n",
              "      box-shadow: 0px 1px 2px rgba(60, 64, 67, 0.3), 0px 1px 3px 1px rgba(60, 64, 67, 0.15);\n",
              "      fill: #174EA6;\n",
              "    }\n",
              "\n",
              "    [theme=dark] .colab-df-convert {\n",
              "      background-color: #3B4455;\n",
              "      fill: #D2E3FC;\n",
              "    }\n",
              "\n",
              "    [theme=dark] .colab-df-convert:hover {\n",
              "      background-color: #434B5C;\n",
              "      box-shadow: 0px 1px 3px 1px rgba(0, 0, 0, 0.15);\n",
              "      filter: drop-shadow(0px 1px 2px rgba(0, 0, 0, 0.3));\n",
              "      fill: #FFFFFF;\n",
              "    }\n",
              "  </style>\n",
              "\n",
              "      <script>\n",
              "        const buttonEl =\n",
              "          document.querySelector('#df-c9f08c0d-ff64-441d-b7a2-619e91093f4e button.colab-df-convert');\n",
              "        buttonEl.style.display =\n",
              "          google.colab.kernel.accessAllowed ? 'block' : 'none';\n",
              "\n",
              "        async function convertToInteractive(key) {\n",
              "          const element = document.querySelector('#df-c9f08c0d-ff64-441d-b7a2-619e91093f4e');\n",
              "          const dataTable =\n",
              "            await google.colab.kernel.invokeFunction('convertToInteractive',\n",
              "                                                     [key], {});\n",
              "          if (!dataTable) return;\n",
              "\n",
              "          const docLinkHtml = 'Like what you see? Visit the ' +\n",
              "            '<a target=\"_blank\" href=https://colab.research.google.com/notebooks/data_table.ipynb>data table notebook</a>'\n",
              "            + ' to learn more about interactive tables.';\n",
              "          element.innerHTML = '';\n",
              "          dataTable['output_type'] = 'display_data';\n",
              "          await google.colab.output.renderOutput(dataTable, element);\n",
              "          const docLink = document.createElement('div');\n",
              "          docLink.innerHTML = docLinkHtml;\n",
              "          element.appendChild(docLink);\n",
              "        }\n",
              "      </script>\n",
              "    </div>\n",
              "  </div>\n",
              "  "
            ]
          },
          "metadata": {},
          "execution_count": 10
        }
      ]
    },
    {
      "cell_type": "markdown",
      "source": [
        "we can see that nan values are added to contest_rating_df."
      ],
      "metadata": {
        "id": "fIF2npRc_RZM"
      }
    },
    {
      "cell_type": "code",
      "source": [
        "contest_rating_df.isna().sum()"
      ],
      "metadata": {
        "colab": {
          "base_uri": "https://localhost:8080/"
        },
        "id": "YRH6gjF7--Hn",
        "outputId": "cf72b5ae-e008-4de4-83e4-71e4304a947f"
      },
      "execution_count": 11,
      "outputs": [
        {
          "output_type": "execute_result",
          "data": {
            "text/plain": [
              "contestId      1\n",
              "handle_name    1\n",
              "old_rating     2\n",
              "new_rating     2\n",
              "rank           2\n",
              "dtype: int64"
            ]
          },
          "metadata": {},
          "execution_count": 11
        }
      ]
    },
    {
      "cell_type": "code",
      "source": [
        "contest_rating_df.dropna(how='any',inplace=True)"
      ],
      "metadata": {
        "id": "ZzdAXeeS_fcd"
      },
      "execution_count": 12,
      "outputs": []
    },
    {
      "cell_type": "code",
      "source": [
        "contest_rating_df.isna().sum()"
      ],
      "metadata": {
        "colab": {
          "base_uri": "https://localhost:8080/"
        },
        "id": "u_TLHF2KAhSD",
        "outputId": "bf7fc9b6-54fd-4a63-ed21-3213a0e3ece1"
      },
      "execution_count": 13,
      "outputs": [
        {
          "output_type": "execute_result",
          "data": {
            "text/plain": [
              "contestId      0\n",
              "handle_name    0\n",
              "old_rating     0\n",
              "new_rating     0\n",
              "rank           0\n",
              "dtype: int64"
            ]
          },
          "metadata": {},
          "execution_count": 13
        }
      ]
    },
    {
      "cell_type": "markdown",
      "source": [
        "we can see that we have removed the null values."
      ],
      "metadata": {
        "id": "eJT17v_FAp1M"
      }
    },
    {
      "cell_type": "code",
      "source": [
        "contest_rating_df.duplicated"
      ],
      "metadata": {
        "colab": {
          "base_uri": "https://localhost:8080/"
        },
        "id": "_BOZNn8wA3rA",
        "outputId": "026357f9-5923-42a7-e203-3e358ae86ba3"
      },
      "execution_count": 14,
      "outputs": [
        {
          "output_type": "execute_result",
          "data": {
            "text/plain": [
              "<bound method DataFrame.duplicated of      contestId handle_name old_rating new_rating rank\n",
              "0            1   vepifanov       1500       1600    1\n",
              "1            1      Orfest       1500       1597    2\n",
              "2            1        NALP       1500       1593    3\n",
              "3            1      forest       1500       1590    4\n",
              "4            1         rem       1500       1580    5\n",
              "...        ...         ...        ...        ...  ...\n",
              "2392         9        TSAM       1500       1386  251\n",
              "2393         9     nep1965       1500       1386  251\n",
              "2394         9  humaneitor       1500       1386  251\n",
              "2395         9      Hernan       1500       1386  251\n",
              "2396         9    Alisher2       1500       1386  251\n",
              "\n",
              "[2397 rows x 5 columns]>"
            ]
          },
          "metadata": {},
          "execution_count": 14
        }
      ]
    },
    {
      "cell_type": "code",
      "source": [
        "contest_rating_df.drop_duplicates()"
      ],
      "metadata": {
        "colab": {
          "base_uri": "https://localhost:8080/",
          "height": 424
        },
        "id": "ubRS6c4YA_JC",
        "outputId": "c70f97a5-0268-4ba5-b47f-e06449b5731d"
      },
      "execution_count": 15,
      "outputs": [
        {
          "output_type": "execute_result",
          "data": {
            "text/plain": [
              "     contestId handle_name old_rating new_rating rank\n",
              "0            1   vepifanov       1500       1600    1\n",
              "1            1      Orfest       1500       1597    2\n",
              "2            1        NALP       1500       1593    3\n",
              "3            1      forest       1500       1590    4\n",
              "4            1         rem       1500       1580    5\n",
              "...        ...         ...        ...        ...  ...\n",
              "2392         9        TSAM       1500       1386  251\n",
              "2393         9     nep1965       1500       1386  251\n",
              "2394         9  humaneitor       1500       1386  251\n",
              "2395         9      Hernan       1500       1386  251\n",
              "2396         9    Alisher2       1500       1386  251\n",
              "\n",
              "[2397 rows x 5 columns]"
            ],
            "text/html": [
              "\n",
              "  <div id=\"df-afd384a2-c703-49db-8d92-4c24bc49aaeb\">\n",
              "    <div class=\"colab-df-container\">\n",
              "      <div>\n",
              "<style scoped>\n",
              "    .dataframe tbody tr th:only-of-type {\n",
              "        vertical-align: middle;\n",
              "    }\n",
              "\n",
              "    .dataframe tbody tr th {\n",
              "        vertical-align: top;\n",
              "    }\n",
              "\n",
              "    .dataframe thead th {\n",
              "        text-align: right;\n",
              "    }\n",
              "</style>\n",
              "<table border=\"1\" class=\"dataframe\">\n",
              "  <thead>\n",
              "    <tr style=\"text-align: right;\">\n",
              "      <th></th>\n",
              "      <th>contestId</th>\n",
              "      <th>handle_name</th>\n",
              "      <th>old_rating</th>\n",
              "      <th>new_rating</th>\n",
              "      <th>rank</th>\n",
              "    </tr>\n",
              "  </thead>\n",
              "  <tbody>\n",
              "    <tr>\n",
              "      <th>0</th>\n",
              "      <td>1</td>\n",
              "      <td>vepifanov</td>\n",
              "      <td>1500</td>\n",
              "      <td>1600</td>\n",
              "      <td>1</td>\n",
              "    </tr>\n",
              "    <tr>\n",
              "      <th>1</th>\n",
              "      <td>1</td>\n",
              "      <td>Orfest</td>\n",
              "      <td>1500</td>\n",
              "      <td>1597</td>\n",
              "      <td>2</td>\n",
              "    </tr>\n",
              "    <tr>\n",
              "      <th>2</th>\n",
              "      <td>1</td>\n",
              "      <td>NALP</td>\n",
              "      <td>1500</td>\n",
              "      <td>1593</td>\n",
              "      <td>3</td>\n",
              "    </tr>\n",
              "    <tr>\n",
              "      <th>3</th>\n",
              "      <td>1</td>\n",
              "      <td>forest</td>\n",
              "      <td>1500</td>\n",
              "      <td>1590</td>\n",
              "      <td>4</td>\n",
              "    </tr>\n",
              "    <tr>\n",
              "      <th>4</th>\n",
              "      <td>1</td>\n",
              "      <td>rem</td>\n",
              "      <td>1500</td>\n",
              "      <td>1580</td>\n",
              "      <td>5</td>\n",
              "    </tr>\n",
              "    <tr>\n",
              "      <th>...</th>\n",
              "      <td>...</td>\n",
              "      <td>...</td>\n",
              "      <td>...</td>\n",
              "      <td>...</td>\n",
              "      <td>...</td>\n",
              "    </tr>\n",
              "    <tr>\n",
              "      <th>2392</th>\n",
              "      <td>9</td>\n",
              "      <td>TSAM</td>\n",
              "      <td>1500</td>\n",
              "      <td>1386</td>\n",
              "      <td>251</td>\n",
              "    </tr>\n",
              "    <tr>\n",
              "      <th>2393</th>\n",
              "      <td>9</td>\n",
              "      <td>nep1965</td>\n",
              "      <td>1500</td>\n",
              "      <td>1386</td>\n",
              "      <td>251</td>\n",
              "    </tr>\n",
              "    <tr>\n",
              "      <th>2394</th>\n",
              "      <td>9</td>\n",
              "      <td>humaneitor</td>\n",
              "      <td>1500</td>\n",
              "      <td>1386</td>\n",
              "      <td>251</td>\n",
              "    </tr>\n",
              "    <tr>\n",
              "      <th>2395</th>\n",
              "      <td>9</td>\n",
              "      <td>Hernan</td>\n",
              "      <td>1500</td>\n",
              "      <td>1386</td>\n",
              "      <td>251</td>\n",
              "    </tr>\n",
              "    <tr>\n",
              "      <th>2396</th>\n",
              "      <td>9</td>\n",
              "      <td>Alisher2</td>\n",
              "      <td>1500</td>\n",
              "      <td>1386</td>\n",
              "      <td>251</td>\n",
              "    </tr>\n",
              "  </tbody>\n",
              "</table>\n",
              "<p>2397 rows × 5 columns</p>\n",
              "</div>\n",
              "      <button class=\"colab-df-convert\" onclick=\"convertToInteractive('df-afd384a2-c703-49db-8d92-4c24bc49aaeb')\"\n",
              "              title=\"Convert this dataframe to an interactive table.\"\n",
              "              style=\"display:none;\">\n",
              "        \n",
              "  <svg xmlns=\"http://www.w3.org/2000/svg\" height=\"24px\"viewBox=\"0 0 24 24\"\n",
              "       width=\"24px\">\n",
              "    <path d=\"M0 0h24v24H0V0z\" fill=\"none\"/>\n",
              "    <path d=\"M18.56 5.44l.94 2.06.94-2.06 2.06-.94-2.06-.94-.94-2.06-.94 2.06-2.06.94zm-11 1L8.5 8.5l.94-2.06 2.06-.94-2.06-.94L8.5 2.5l-.94 2.06-2.06.94zm10 10l.94 2.06.94-2.06 2.06-.94-2.06-.94-.94-2.06-.94 2.06-2.06.94z\"/><path d=\"M17.41 7.96l-1.37-1.37c-.4-.4-.92-.59-1.43-.59-.52 0-1.04.2-1.43.59L10.3 9.45l-7.72 7.72c-.78.78-.78 2.05 0 2.83L4 21.41c.39.39.9.59 1.41.59.51 0 1.02-.2 1.41-.59l7.78-7.78 2.81-2.81c.8-.78.8-2.07 0-2.86zM5.41 20L4 18.59l7.72-7.72 1.47 1.35L5.41 20z\"/>\n",
              "  </svg>\n",
              "      </button>\n",
              "      \n",
              "  <style>\n",
              "    .colab-df-container {\n",
              "      display:flex;\n",
              "      flex-wrap:wrap;\n",
              "      gap: 12px;\n",
              "    }\n",
              "\n",
              "    .colab-df-convert {\n",
              "      background-color: #E8F0FE;\n",
              "      border: none;\n",
              "      border-radius: 50%;\n",
              "      cursor: pointer;\n",
              "      display: none;\n",
              "      fill: #1967D2;\n",
              "      height: 32px;\n",
              "      padding: 0 0 0 0;\n",
              "      width: 32px;\n",
              "    }\n",
              "\n",
              "    .colab-df-convert:hover {\n",
              "      background-color: #E2EBFA;\n",
              "      box-shadow: 0px 1px 2px rgba(60, 64, 67, 0.3), 0px 1px 3px 1px rgba(60, 64, 67, 0.15);\n",
              "      fill: #174EA6;\n",
              "    }\n",
              "\n",
              "    [theme=dark] .colab-df-convert {\n",
              "      background-color: #3B4455;\n",
              "      fill: #D2E3FC;\n",
              "    }\n",
              "\n",
              "    [theme=dark] .colab-df-convert:hover {\n",
              "      background-color: #434B5C;\n",
              "      box-shadow: 0px 1px 3px 1px rgba(0, 0, 0, 0.15);\n",
              "      filter: drop-shadow(0px 1px 2px rgba(0, 0, 0, 0.3));\n",
              "      fill: #FFFFFF;\n",
              "    }\n",
              "  </style>\n",
              "\n",
              "      <script>\n",
              "        const buttonEl =\n",
              "          document.querySelector('#df-afd384a2-c703-49db-8d92-4c24bc49aaeb button.colab-df-convert');\n",
              "        buttonEl.style.display =\n",
              "          google.colab.kernel.accessAllowed ? 'block' : 'none';\n",
              "\n",
              "        async function convertToInteractive(key) {\n",
              "          const element = document.querySelector('#df-afd384a2-c703-49db-8d92-4c24bc49aaeb');\n",
              "          const dataTable =\n",
              "            await google.colab.kernel.invokeFunction('convertToInteractive',\n",
              "                                                     [key], {});\n",
              "          if (!dataTable) return;\n",
              "\n",
              "          const docLinkHtml = 'Like what you see? Visit the ' +\n",
              "            '<a target=\"_blank\" href=https://colab.research.google.com/notebooks/data_table.ipynb>data table notebook</a>'\n",
              "            + ' to learn more about interactive tables.';\n",
              "          element.innerHTML = '';\n",
              "          dataTable['output_type'] = 'display_data';\n",
              "          await google.colab.output.renderOutput(dataTable, element);\n",
              "          const docLink = document.createElement('div');\n",
              "          docLink.innerHTML = docLinkHtml;\n",
              "          element.appendChild(docLink);\n",
              "        }\n",
              "      </script>\n",
              "    </div>\n",
              "  </div>\n",
              "  "
            ]
          },
          "metadata": {},
          "execution_count": 15
        }
      ]
    },
    {
      "cell_type": "markdown",
      "source": [
        "Stroing the pandas dataframe to excel."
      ],
      "metadata": {
        "id": "Zte_RMfFCCZh"
      }
    },
    {
      "cell_type": "code",
      "source": [
        "contest_rating_df.to_excel(\"contest_rating.xlsx\")"
      ],
      "metadata": {
        "id": "kHIcUdgNB3C8"
      },
      "execution_count": 16,
      "outputs": []
    },
    {
      "cell_type": "markdown",
      "source": [
        "**CONTEST STATUS DATA**"
      ],
      "metadata": {
        "id": "IQNfDX3rCYT0"
      }
    },
    {
      "cell_type": "code",
      "source": [
        "URL = 'https://codeforces.com/api/contest.status?contestId=1&from=1&count=10'\n",
        "page = requests.get(URL)\n",
        "soup = BeautifulSoup(page.content)\n",
        "soup"
      ],
      "metadata": {
        "id": "m-RmLvFPCHHs"
      },
      "execution_count": null,
      "outputs": []
    },
    {
      "cell_type": "code",
      "source": [
        "type(soup)"
      ],
      "metadata": {
        "colab": {
          "base_uri": "https://localhost:8080/"
        },
        "id": "TDKPHFV6HdlC",
        "outputId": "cbaa8fe3-11c2-49f9-aeaa-afe8ece234da"
      },
      "execution_count": 19,
      "outputs": [
        {
          "output_type": "execute_result",
          "data": {
            "text/plain": [
              "bs4.BeautifulSoup"
            ]
          },
          "metadata": {},
          "execution_count": 19
        }
      ]
    },
    {
      "cell_type": "code",
      "source": [
        "contest_status_df1=pd.DataFrame(columns=['contestId','handle_name','ProgrammingLanguage','Problem_Index','Problem_Name','Problem_tags'])\n",
        "contest_status_df1"
      ],
      "metadata": {
        "colab": {
          "base_uri": "https://localhost:8080/",
          "height": 49
        },
        "id": "u1LuAYY6GU0J",
        "outputId": "3708d45d-246d-46ec-ed1c-948659ec3d37"
      },
      "execution_count": 20,
      "outputs": [
        {
          "output_type": "execute_result",
          "data": {
            "text/plain": [
              "Empty DataFrame\n",
              "Columns: [contestId, handle_name, ProgrammingLanguage, Problem_Index, Problem_Name, Problem_tags]\n",
              "Index: []"
            ],
            "text/html": [
              "\n",
              "  <div id=\"df-10a7a75b-747d-4499-a55c-46a839d67897\">\n",
              "    <div class=\"colab-df-container\">\n",
              "      <div>\n",
              "<style scoped>\n",
              "    .dataframe tbody tr th:only-of-type {\n",
              "        vertical-align: middle;\n",
              "    }\n",
              "\n",
              "    .dataframe tbody tr th {\n",
              "        vertical-align: top;\n",
              "    }\n",
              "\n",
              "    .dataframe thead th {\n",
              "        text-align: right;\n",
              "    }\n",
              "</style>\n",
              "<table border=\"1\" class=\"dataframe\">\n",
              "  <thead>\n",
              "    <tr style=\"text-align: right;\">\n",
              "      <th></th>\n",
              "      <th>contestId</th>\n",
              "      <th>handle_name</th>\n",
              "      <th>ProgrammingLanguage</th>\n",
              "      <th>Problem_Index</th>\n",
              "      <th>Problem_Name</th>\n",
              "      <th>Problem_tags</th>\n",
              "    </tr>\n",
              "  </thead>\n",
              "  <tbody>\n",
              "  </tbody>\n",
              "</table>\n",
              "</div>\n",
              "      <button class=\"colab-df-convert\" onclick=\"convertToInteractive('df-10a7a75b-747d-4499-a55c-46a839d67897')\"\n",
              "              title=\"Convert this dataframe to an interactive table.\"\n",
              "              style=\"display:none;\">\n",
              "        \n",
              "  <svg xmlns=\"http://www.w3.org/2000/svg\" height=\"24px\"viewBox=\"0 0 24 24\"\n",
              "       width=\"24px\">\n",
              "    <path d=\"M0 0h24v24H0V0z\" fill=\"none\"/>\n",
              "    <path d=\"M18.56 5.44l.94 2.06.94-2.06 2.06-.94-2.06-.94-.94-2.06-.94 2.06-2.06.94zm-11 1L8.5 8.5l.94-2.06 2.06-.94-2.06-.94L8.5 2.5l-.94 2.06-2.06.94zm10 10l.94 2.06.94-2.06 2.06-.94-2.06-.94-.94-2.06-.94 2.06-2.06.94z\"/><path d=\"M17.41 7.96l-1.37-1.37c-.4-.4-.92-.59-1.43-.59-.52 0-1.04.2-1.43.59L10.3 9.45l-7.72 7.72c-.78.78-.78 2.05 0 2.83L4 21.41c.39.39.9.59 1.41.59.51 0 1.02-.2 1.41-.59l7.78-7.78 2.81-2.81c.8-.78.8-2.07 0-2.86zM5.41 20L4 18.59l7.72-7.72 1.47 1.35L5.41 20z\"/>\n",
              "  </svg>\n",
              "      </button>\n",
              "      \n",
              "  <style>\n",
              "    .colab-df-container {\n",
              "      display:flex;\n",
              "      flex-wrap:wrap;\n",
              "      gap: 12px;\n",
              "    }\n",
              "\n",
              "    .colab-df-convert {\n",
              "      background-color: #E8F0FE;\n",
              "      border: none;\n",
              "      border-radius: 50%;\n",
              "      cursor: pointer;\n",
              "      display: none;\n",
              "      fill: #1967D2;\n",
              "      height: 32px;\n",
              "      padding: 0 0 0 0;\n",
              "      width: 32px;\n",
              "    }\n",
              "\n",
              "    .colab-df-convert:hover {\n",
              "      background-color: #E2EBFA;\n",
              "      box-shadow: 0px 1px 2px rgba(60, 64, 67, 0.3), 0px 1px 3px 1px rgba(60, 64, 67, 0.15);\n",
              "      fill: #174EA6;\n",
              "    }\n",
              "\n",
              "    [theme=dark] .colab-df-convert {\n",
              "      background-color: #3B4455;\n",
              "      fill: #D2E3FC;\n",
              "    }\n",
              "\n",
              "    [theme=dark] .colab-df-convert:hover {\n",
              "      background-color: #434B5C;\n",
              "      box-shadow: 0px 1px 3px 1px rgba(0, 0, 0, 0.15);\n",
              "      filter: drop-shadow(0px 1px 2px rgba(0, 0, 0, 0.3));\n",
              "      fill: #FFFFFF;\n",
              "    }\n",
              "  </style>\n",
              "\n",
              "      <script>\n",
              "        const buttonEl =\n",
              "          document.querySelector('#df-10a7a75b-747d-4499-a55c-46a839d67897 button.colab-df-convert');\n",
              "        buttonEl.style.display =\n",
              "          google.colab.kernel.accessAllowed ? 'block' : 'none';\n",
              "\n",
              "        async function convertToInteractive(key) {\n",
              "          const element = document.querySelector('#df-10a7a75b-747d-4499-a55c-46a839d67897');\n",
              "          const dataTable =\n",
              "            await google.colab.kernel.invokeFunction('convertToInteractive',\n",
              "                                                     [key], {});\n",
              "          if (!dataTable) return;\n",
              "\n",
              "          const docLinkHtml = 'Like what you see? Visit the ' +\n",
              "            '<a target=\"_blank\" href=https://colab.research.google.com/notebooks/data_table.ipynb>data table notebook</a>'\n",
              "            + ' to learn more about interactive tables.';\n",
              "          element.innerHTML = '';\n",
              "          dataTable['output_type'] = 'display_data';\n",
              "          await google.colab.output.renderOutput(dataTable, element);\n",
              "          const docLink = document.createElement('div');\n",
              "          docLink.innerHTML = docLinkHtml;\n",
              "          element.appendChild(docLink);\n",
              "        }\n",
              "      </script>\n",
              "    </div>\n",
              "  </div>\n",
              "  "
            ]
          },
          "metadata": {},
          "execution_count": 20
        }
      ]
    },
    {
      "cell_type": "code",
      "source": [
        "contest_data=[]\n",
        "OK = 200\n",
        "for i in range(1,10):\n",
        "  url_contest_status='https://codeforces.com/api/contest.status?contestId='+str(i)+'&from=1&count=10'\n",
        "  response_status=requests.get(url_contest_status)\n",
        "  if response_status.status_code == OK:\n",
        "    conteststatus=response_status.json()\n",
        "    contest_data+=conteststatus['result']\n",
        "  else:\n",
        "    print(i,\"No Data\",response_status.status_code)\n",
        "    \n",
        "else:\n",
        "  print(contest_data)\n",
        "  print(\"WORKED\")"
      ],
      "metadata": {
        "colab": {
          "base_uri": "https://localhost:8080/"
        },
        "id": "PDiIJNJ6F-JF",
        "outputId": "98c865d1-743a-4675-b298-3504c46187b1"
      },
      "execution_count": 21,
      "outputs": [
        {
          "output_type": "stream",
          "name": "stdout",
          "text": [
            "[{'id': 181885405, 'contestId': 1, 'creationTimeSeconds': 1669036872, 'relativeTimeSeconds': 2147483647, 'problem': {'contestId': 1, 'index': 'A', 'name': 'Theatre Square', 'type': 'PROGRAMMING', 'rating': 1000, 'tags': ['math']}, 'author': {'contestId': 1, 'members': [{'handle': 'BMS250'}], 'participantType': 'PRACTICE', 'ghost': False, 'startTimeSeconds': 1266580800}, 'programmingLanguage': 'Python 3', 'verdict': 'WRONG_ANSWER', 'testset': 'TESTS', 'passedTestCount': 3, 'timeConsumedMillis': 46, 'memoryConsumedBytes': 0}, {'id': 181885396, 'contestId': 1, 'creationTimeSeconds': 1669036866, 'relativeTimeSeconds': 2147483647, 'problem': {'contestId': 1, 'index': 'A', 'name': 'Theatre Square', 'type': 'PROGRAMMING', 'rating': 1000, 'tags': ['math']}, 'author': {'contestId': 1, 'members': [{'handle': 'technickhil'}], 'participantType': 'PRACTICE', 'ghost': False, 'startTimeSeconds': 1266580800}, 'programmingLanguage': 'GNU C++17', 'verdict': 'OK', 'testset': 'TESTS', 'passedTestCount': 20, 'timeConsumedMillis': 15, 'memoryConsumedBytes': 0}, {'id': 181885064, 'contestId': 1, 'creationTimeSeconds': 1669036698, 'relativeTimeSeconds': 2147483647, 'problem': {'contestId': 1, 'index': 'A', 'name': 'Theatre Square', 'type': 'PROGRAMMING', 'rating': 1000, 'tags': ['math']}, 'author': {'contestId': 1, 'members': [{'handle': 'BMS250'}], 'participantType': 'PRACTICE', 'ghost': False, 'startTimeSeconds': 1266580800}, 'programmingLanguage': 'Python 3', 'verdict': 'WRONG_ANSWER', 'testset': 'TESTS', 'passedTestCount': 2, 'timeConsumedMillis': 46, 'memoryConsumedBytes': 0}, {'id': 181885007, 'contestId': 1, 'creationTimeSeconds': 1669036665, 'relativeTimeSeconds': 2147483647, 'problem': {'contestId': 1, 'index': 'A', 'name': 'Theatre Square', 'type': 'PROGRAMMING', 'rating': 1000, 'tags': ['math']}, 'author': {'contestId': 1, 'members': [{'handle': 'SY_nzwmb83'}], 'participantType': 'PRACTICE', 'ghost': False, 'startTimeSeconds': 1266580800}, 'programmingLanguage': 'GNU C++14', 'verdict': 'OK', 'testset': 'TESTS', 'passedTestCount': 20, 'timeConsumedMillis': 15, 'memoryConsumedBytes': 0}, {'id': 181884878, 'contestId': 1, 'creationTimeSeconds': 1669036592, 'relativeTimeSeconds': 2147483647, 'problem': {'contestId': 1, 'index': 'A', 'name': 'Theatre Square', 'type': 'PROGRAMMING', 'rating': 1000, 'tags': ['math']}, 'author': {'contestId': 1, 'members': [{'handle': 'BMS250'}], 'participantType': 'PRACTICE', 'ghost': False, 'startTimeSeconds': 1266580800}, 'programmingLanguage': 'Python 3', 'verdict': 'WRONG_ANSWER', 'testset': 'TESTS', 'passedTestCount': 1, 'timeConsumedMillis': 30, 'memoryConsumedBytes': 0}, {'id': 181884497, 'contestId': 1, 'creationTimeSeconds': 1669036389, 'relativeTimeSeconds': 2147483647, 'problem': {'contestId': 1, 'index': 'A', 'name': 'Theatre Square', 'type': 'PROGRAMMING', 'rating': 1000, 'tags': ['math']}, 'author': {'contestId': 1, 'members': [{'handle': 'luogu_bot4'}], 'participantType': 'PRACTICE', 'ghost': False, 'startTimeSeconds': 1266580800}, 'programmingLanguage': 'GNU C11', 'verdict': 'COMPILATION_ERROR', 'testset': 'TESTS', 'passedTestCount': 0, 'timeConsumedMillis': 0, 'memoryConsumedBytes': 0}, {'id': 181884371, 'contestId': 1, 'creationTimeSeconds': 1669036321, 'relativeTimeSeconds': 2147483647, 'problem': {'contestId': 1, 'index': 'A', 'name': 'Theatre Square', 'type': 'PROGRAMMING', 'rating': 1000, 'tags': ['math']}, 'author': {'contestId': 1, 'members': [{'handle': 'ysm119'}], 'participantType': 'PRACTICE', 'ghost': False, 'startTimeSeconds': 1266580800}, 'programmingLanguage': 'GNU C11', 'verdict': 'OK', 'testset': 'TESTS', 'passedTestCount': 20, 'timeConsumedMillis': 15, 'memoryConsumedBytes': 0}, {'id': 181884282, 'contestId': 1, 'creationTimeSeconds': 1669036277, 'relativeTimeSeconds': 2147483647, 'problem': {'contestId': 1, 'index': 'A', 'name': 'Theatre Square', 'type': 'PROGRAMMING', 'rating': 1000, 'tags': ['math']}, 'author': {'contestId': 1, 'members': [{'handle': 'HUFT'}], 'participantType': 'PRACTICE', 'ghost': False, 'startTimeSeconds': 1266580800}, 'programmingLanguage': 'GNU C++14', 'verdict': 'OK', 'testset': 'TESTS', 'passedTestCount': 20, 'timeConsumedMillis': 15, 'memoryConsumedBytes': 102400}, {'id': 181884198, 'contestId': 1, 'creationTimeSeconds': 1669036226, 'relativeTimeSeconds': 2147483647, 'problem': {'contestId': 1, 'index': 'A', 'name': 'Theatre Square', 'type': 'PROGRAMMING', 'rating': 1000, 'tags': ['math']}, 'author': {'contestId': 1, 'members': [{'handle': 'HUFT'}], 'participantType': 'PRACTICE', 'ghost': False, 'startTimeSeconds': 1266580800}, 'programmingLanguage': 'GNU C++14', 'verdict': 'WRONG_ANSWER', 'testset': 'TESTS', 'passedTestCount': 0, 'timeConsumedMillis': 0, 'memoryConsumedBytes': 102400}, {'id': 181884008, 'contestId': 1, 'creationTimeSeconds': 1669036112, 'relativeTimeSeconds': 2147483647, 'problem': {'contestId': 1, 'index': 'A', 'name': 'Theatre Square', 'type': 'PROGRAMMING', 'rating': 1000, 'tags': ['math']}, 'author': {'contestId': 1, 'members': [{'handle': 'ysm119'}], 'participantType': 'PRACTICE', 'ghost': False, 'startTimeSeconds': 1266580800}, 'programmingLanguage': 'GNU C11', 'verdict': 'WRONG_ANSWER', 'testset': 'TESTS', 'passedTestCount': 8, 'timeConsumedMillis': 30, 'memoryConsumedBytes': 0}, {'id': 181883947, 'contestId': 2, 'creationTimeSeconds': 1669036070, 'relativeTimeSeconds': 2147483647, 'problem': {'contestId': 2, 'index': 'A', 'name': 'Winner', 'type': 'PROGRAMMING', 'rating': 1500, 'tags': ['hashing', 'implementation']}, 'author': {'contestId': 2, 'members': [{'handle': 'SMTTY'}], 'participantType': 'PRACTICE', 'ghost': False, 'startTimeSeconds': 1267117200}, 'programmingLanguage': 'GNU C++14', 'verdict': 'OK', 'testset': 'TESTS', 'passedTestCount': 20, 'timeConsumedMillis': 62, 'memoryConsumedBytes': 204800}, {'id': 181883903, 'contestId': 2, 'creationTimeSeconds': 1669036054, 'relativeTimeSeconds': 2147483647, 'problem': {'contestId': 2, 'index': 'A', 'name': 'Winner', 'type': 'PROGRAMMING', 'rating': 1500, 'tags': ['hashing', 'implementation']}, 'author': {'contestId': 2, 'members': [{'handle': 'SMTTY'}], 'participantType': 'PRACTICE', 'ghost': False, 'startTimeSeconds': 1267117200}, 'programmingLanguage': 'GNU C++14', 'verdict': 'OK', 'testset': 'TESTS', 'passedTestCount': 20, 'timeConsumedMillis': 62, 'memoryConsumedBytes': 204800}, {'id': 181883378, 'contestId': 2, 'creationTimeSeconds': 1669035774, 'relativeTimeSeconds': 2147483647, 'problem': {'contestId': 2, 'index': 'A', 'name': 'Winner', 'type': 'PROGRAMMING', 'rating': 1500, 'tags': ['hashing', 'implementation']}, 'author': {'contestId': 2, 'members': [{'handle': 'SMTTY'}], 'participantType': 'PRACTICE', 'ghost': False, 'startTimeSeconds': 1267117200}, 'programmingLanguage': 'GNU C++14', 'verdict': 'WRONG_ANSWER', 'testset': 'TESTS', 'passedTestCount': 9, 'timeConsumedMillis': 30, 'memoryConsumedBytes': 102400}, {'id': 181882938, 'contestId': 2, 'creationTimeSeconds': 1669035531, 'relativeTimeSeconds': 2147483647, 'problem': {'contestId': 2, 'index': 'A', 'name': 'Winner', 'type': 'PROGRAMMING', 'rating': 1500, 'tags': ['hashing', 'implementation']}, 'author': {'contestId': 2, 'members': [{'handle': 'SMTTY'}], 'participantType': 'PRACTICE', 'ghost': False, 'startTimeSeconds': 1267117200}, 'programmingLanguage': 'GNU C++14', 'verdict': 'WRONG_ANSWER', 'testset': 'TESTS', 'passedTestCount': 9, 'timeConsumedMillis': 30, 'memoryConsumedBytes': 102400}, {'id': 181882694, 'contestId': 2, 'creationTimeSeconds': 1669035397, 'relativeTimeSeconds': 2147483647, 'problem': {'contestId': 2, 'index': 'A', 'name': 'Winner', 'type': 'PROGRAMMING', 'rating': 1500, 'tags': ['hashing', 'implementation']}, 'author': {'contestId': 2, 'members': [{'handle': 'SMTTY'}], 'participantType': 'PRACTICE', 'ghost': False, 'startTimeSeconds': 1267117200}, 'programmingLanguage': 'GNU C++14', 'verdict': 'WRONG_ANSWER', 'testset': 'TESTS', 'passedTestCount': 0, 'timeConsumedMillis': 0, 'memoryConsumedBytes': 0}, {'id': 181882669, 'contestId': 2, 'creationTimeSeconds': 1669035379, 'relativeTimeSeconds': 2147483647, 'problem': {'contestId': 2, 'index': 'A', 'name': 'Winner', 'type': 'PROGRAMMING', 'rating': 1500, 'tags': ['hashing', 'implementation']}, 'author': {'contestId': 2, 'members': [{'handle': 'sostanza'}], 'participantType': 'PRACTICE', 'ghost': False, 'startTimeSeconds': 1267117200}, 'programmingLanguage': 'GNU C++14', 'verdict': 'WRONG_ANSWER', 'testset': 'TESTS', 'passedTestCount': 14, 'timeConsumedMillis': 30, 'memoryConsumedBytes': 204800}, {'id': 181882616, 'contestId': 2, 'creationTimeSeconds': 1669035351, 'relativeTimeSeconds': 2147483647, 'problem': {'contestId': 2, 'index': 'A', 'name': 'Winner', 'type': 'PROGRAMMING', 'rating': 1500, 'tags': ['hashing', 'implementation']}, 'author': {'contestId': 2, 'members': [{'handle': 'sostanza'}], 'participantType': 'PRACTICE', 'ghost': False, 'startTimeSeconds': 1267117200}, 'programmingLanguage': 'GNU C++14', 'verdict': 'WRONG_ANSWER', 'testset': 'TESTS', 'passedTestCount': 13, 'timeConsumedMillis': 30, 'memoryConsumedBytes': 204800}, {'id': 181882388, 'contestId': 2, 'creationTimeSeconds': 1669035227, 'relativeTimeSeconds': 2147483647, 'problem': {'contestId': 2, 'index': 'A', 'name': 'Winner', 'type': 'PROGRAMMING', 'rating': 1500, 'tags': ['hashing', 'implementation']}, 'author': {'contestId': 2, 'members': [{'handle': 'SMTTY'}], 'participantType': 'PRACTICE', 'ghost': False, 'startTimeSeconds': 1267117200}, 'programmingLanguage': 'GNU C++14', 'verdict': 'WRONG_ANSWER', 'testset': 'TESTS', 'passedTestCount': 9, 'timeConsumedMillis': 30, 'memoryConsumedBytes': 102400}, {'id': 181882105, 'contestId': 2, 'creationTimeSeconds': 1669035087, 'relativeTimeSeconds': 2147483647, 'problem': {'contestId': 2, 'index': 'A', 'name': 'Winner', 'type': 'PROGRAMMING', 'rating': 1500, 'tags': ['hashing', 'implementation']}, 'author': {'contestId': 2, 'members': [{'handle': 'SMTTY'}], 'participantType': 'PRACTICE', 'ghost': False, 'startTimeSeconds': 1267117200}, 'programmingLanguage': 'GNU C++14', 'verdict': 'WRONG_ANSWER', 'testset': 'TESTS', 'passedTestCount': 9, 'timeConsumedMillis': 30, 'memoryConsumedBytes': 204800}, {'id': 181881779, 'contestId': 2, 'creationTimeSeconds': 1669034916, 'relativeTimeSeconds': 2147483647, 'problem': {'contestId': 2, 'index': 'A', 'name': 'Winner', 'type': 'PROGRAMMING', 'rating': 1500, 'tags': ['hashing', 'implementation']}, 'author': {'contestId': 2, 'members': [{'handle': 'sostanza'}], 'participantType': 'PRACTICE', 'ghost': False, 'startTimeSeconds': 1267117200}, 'programmingLanguage': 'GNU C++14', 'verdict': 'WRONG_ANSWER', 'testset': 'TESTS', 'passedTestCount': 13, 'timeConsumedMillis': 30, 'memoryConsumedBytes': 204800}, {'id': 181882359, 'contestId': 3, 'creationTimeSeconds': 1669035213, 'relativeTimeSeconds': 2147483647, 'problem': {'contestId': 3, 'index': 'C', 'name': 'Tic-tac-toe', 'type': 'PROGRAMMING', 'rating': 1800, 'tags': ['brute force', 'games', 'implementation']}, 'author': {'contestId': 3, 'members': [{'handle': 'NeelSoni1313'}], 'participantType': 'PRACTICE', 'ghost': False, 'startTimeSeconds': 1267963200}, 'programmingLanguage': 'GNU C++17', 'verdict': 'OK', 'testset': 'TESTS', 'passedTestCount': 175, 'timeConsumedMillis': 30, 'memoryConsumedBytes': 0}, {'id': 181879944, 'contestId': 3, 'creationTimeSeconds': 1669033959, 'relativeTimeSeconds': 2147483647, 'problem': {'contestId': 3, 'index': 'C', 'name': 'Tic-tac-toe', 'type': 'PROGRAMMING', 'rating': 1800, 'tags': ['brute force', 'games', 'implementation']}, 'author': {'contestId': 3, 'members': [{'handle': 'NeelSoni1313'}], 'participantType': 'PRACTICE', 'ghost': False, 'startTimeSeconds': 1267963200}, 'programmingLanguage': 'GNU C++17', 'verdict': 'RUNTIME_ERROR', 'testset': 'TESTS', 'passedTestCount': 0, 'timeConsumedMillis': 0, 'memoryConsumedBytes': 102400}, {'id': 181877402, 'contestId': 3, 'creationTimeSeconds': 1669032619, 'relativeTimeSeconds': 2147483647, 'problem': {'contestId': 3, 'index': 'C', 'name': 'Tic-tac-toe', 'type': 'PROGRAMMING', 'rating': 1800, 'tags': ['brute force', 'games', 'implementation']}, 'author': {'contestId': 3, 'members': [{'handle': '2021YuanZiJun'}], 'participantType': 'PRACTICE', 'ghost': False, 'startTimeSeconds': 1267963200}, 'programmingLanguage': 'GNU C++14', 'verdict': 'WRONG_ANSWER', 'testset': 'TESTS', 'passedTestCount': 3, 'timeConsumedMillis': 0, 'memoryConsumedBytes': 0}, {'id': 181875313, 'contestId': 3, 'creationTimeSeconds': 1669031459, 'relativeTimeSeconds': 2147483647, 'problem': {'contestId': 3, 'index': 'A', 'name': 'Shortest path of the king', 'type': 'PROGRAMMING', 'rating': 1000, 'tags': ['greedy', 'shortest paths']}, 'author': {'contestId': 3, 'members': [{'handle': 'NeelSoni1313'}], 'participantType': 'PRACTICE', 'ghost': False, 'startTimeSeconds': 1267963200}, 'programmingLanguage': 'GNU C++17', 'verdict': 'OK', 'testset': 'TESTS', 'passedTestCount': 35, 'timeConsumedMillis': 30, 'memoryConsumedBytes': 0}, {'id': 181875208, 'contestId': 3, 'creationTimeSeconds': 1669031404, 'relativeTimeSeconds': 2147483647, 'problem': {'contestId': 3, 'index': 'A', 'name': 'Shortest path of the king', 'type': 'PROGRAMMING', 'rating': 1000, 'tags': ['greedy', 'shortest paths']}, 'author': {'contestId': 3, 'members': [{'handle': 'NeelSoni1313'}], 'participantType': 'PRACTICE', 'ghost': False, 'startTimeSeconds': 1267963200}, 'programmingLanguage': 'GNU C++17', 'verdict': 'WRONG_ANSWER', 'testset': 'TESTS', 'passedTestCount': 1, 'timeConsumedMillis': 0, 'memoryConsumedBytes': 0}, {'id': 181875112, 'contestId': 3, 'creationTimeSeconds': 1669031353, 'relativeTimeSeconds': 2147483647, 'problem': {'contestId': 3, 'index': 'A', 'name': 'Shortest path of the king', 'type': 'PROGRAMMING', 'rating': 1000, 'tags': ['greedy', 'shortest paths']}, 'author': {'contestId': 3, 'members': [{'handle': 'NeelSoni1313'}], 'participantType': 'PRACTICE', 'ghost': False, 'startTimeSeconds': 1267963200}, 'programmingLanguage': 'GNU C++17', 'verdict': 'WRONG_ANSWER', 'testset': 'TESTS', 'passedTestCount': 0, 'timeConsumedMillis': 0, 'memoryConsumedBytes': 0}, {'id': 181875062, 'contestId': 3, 'creationTimeSeconds': 1669031319, 'relativeTimeSeconds': 2147483647, 'problem': {'contestId': 3, 'index': 'A', 'name': 'Shortest path of the king', 'type': 'PROGRAMMING', 'rating': 1000, 'tags': ['greedy', 'shortest paths']}, 'author': {'contestId': 3, 'members': [{'handle': 'NeelSoni1313'}], 'participantType': 'PRACTICE', 'ghost': False, 'startTimeSeconds': 1267963200}, 'programmingLanguage': 'GNU C++17', 'verdict': 'COMPILATION_ERROR', 'testset': 'TESTS', 'passedTestCount': 0, 'timeConsumedMillis': 0, 'memoryConsumedBytes': 0}, {'id': 181874821, 'contestId': 3, 'creationTimeSeconds': 1669031192, 'relativeTimeSeconds': 2147483647, 'problem': {'contestId': 3, 'index': 'B', 'name': 'Lorry', 'type': 'PROGRAMMING', 'rating': 1900, 'tags': ['greedy', 'sortings']}, 'author': {'contestId': 3, 'members': [{'handle': 'LangQi99'}], 'participantType': 'PRACTICE', 'ghost': False, 'startTimeSeconds': 1267963200}, 'programmingLanguage': 'GNU C++20 (64)', 'verdict': 'WRONG_ANSWER', 'testset': 'TESTS', 'passedTestCount': 27, 'timeConsumedMillis': 342, 'memoryConsumedBytes': 8499200}, {'id': 181874582, 'contestId': 3, 'creationTimeSeconds': 1669031067, 'relativeTimeSeconds': 2147483647, 'problem': {'contestId': 3, 'index': 'B', 'name': 'Lorry', 'type': 'PROGRAMMING', 'rating': 1900, 'tags': ['greedy', 'sortings']}, 'author': {'contestId': 3, 'members': [{'handle': 'LangQi99'}], 'participantType': 'PRACTICE', 'ghost': False, 'startTimeSeconds': 1267963200}, 'programmingLanguage': 'GNU C++20 (64)', 'verdict': 'WRONG_ANSWER', 'testset': 'TESTS', 'passedTestCount': 27, 'timeConsumedMillis': 374, 'memoryConsumedBytes': 8499200}, {'id': 181874397, 'contestId': 3, 'creationTimeSeconds': 1669030973, 'relativeTimeSeconds': 2147483647, 'problem': {'contestId': 3, 'index': 'B', 'name': 'Lorry', 'type': 'PROGRAMMING', 'rating': 1900, 'tags': ['greedy', 'sortings']}, 'author': {'contestId': 3, 'members': [{'handle': 'LangQi99'}], 'participantType': 'PRACTICE', 'ghost': False, 'startTimeSeconds': 1267963200}, 'programmingLanguage': 'GNU C++20 (64)', 'verdict': 'RUNTIME_ERROR', 'testset': 'TESTS', 'passedTestCount': 20, 'timeConsumedMillis': 372, 'memoryConsumedBytes': 8499200}, {'id': 181885159, 'contestId': 4, 'creationTimeSeconds': 1669036744, 'relativeTimeSeconds': 2147483647, 'problem': {'contestId': 4, 'index': 'A', 'name': 'Watermelon', 'type': 'PROGRAMMING', 'rating': 800, 'tags': ['brute force', 'math']}, 'author': {'contestId': 4, 'members': [{'handle': 'LucidDreamer'}], 'participantType': 'PRACTICE', 'ghost': False, 'startTimeSeconds': 1268395200}, 'programmingLanguage': 'GNU C++17', 'verdict': 'OK', 'testset': 'TESTS', 'passedTestCount': 20, 'timeConsumedMillis': 30, 'memoryConsumedBytes': 0}, {'id': 181884967, 'contestId': 4, 'creationTimeSeconds': 1669036636, 'relativeTimeSeconds': 2147483647, 'problem': {'contestId': 4, 'index': 'A', 'name': 'Watermelon', 'type': 'PROGRAMMING', 'rating': 800, 'tags': ['brute force', 'math']}, 'author': {'contestId': 4, 'members': [{'handle': 'Jakia_2123'}], 'participantType': 'PRACTICE', 'ghost': False, 'startTimeSeconds': 1268395200}, 'programmingLanguage': 'MS C++ 2017', 'verdict': 'WRONG_ANSWER', 'testset': 'TESTS', 'passedTestCount': 1, 'timeConsumedMillis': 30, 'memoryConsumedBytes': 0}, {'id': 181884731, 'contestId': 4, 'creationTimeSeconds': 1669036511, 'relativeTimeSeconds': 2147483647, 'problem': {'contestId': 4, 'index': 'A', 'name': 'Watermelon', 'type': 'PROGRAMMING', 'rating': 800, 'tags': ['brute force', 'math']}, 'author': {'contestId': 4, 'members': [{'handle': 'HUFT'}], 'participantType': 'PRACTICE', 'ghost': False, 'startTimeSeconds': 1268395200}, 'programmingLanguage': 'GNU C++14', 'verdict': 'OK', 'testset': 'TESTS', 'passedTestCount': 20, 'timeConsumedMillis': 30, 'memoryConsumedBytes': 0}, {'id': 181884654, 'contestId': 4, 'creationTimeSeconds': 1669036470, 'relativeTimeSeconds': 2147483647, 'problem': {'contestId': 4, 'index': 'A', 'name': 'Watermelon', 'type': 'PROGRAMMING', 'rating': 800, 'tags': ['brute force', 'math']}, 'author': {'contestId': 4, 'members': [{'handle': 'HUFT'}], 'participantType': 'PRACTICE', 'ghost': False, 'startTimeSeconds': 1268395200}, 'programmingLanguage': 'GNU C++14', 'verdict': 'WRONG_ANSWER', 'testset': 'TESTS', 'passedTestCount': 4, 'timeConsumedMillis': 0, 'memoryConsumedBytes': 0}, {'id': 181884614, 'contestId': 4, 'creationTimeSeconds': 1669036449, 'relativeTimeSeconds': 2147483647, 'problem': {'contestId': 4, 'index': 'A', 'name': 'Watermelon', 'type': 'PROGRAMMING', 'rating': 800, 'tags': ['brute force', 'math']}, 'author': {'contestId': 4, 'members': [{'handle': 'bkifhr10'}], 'participantType': 'PRACTICE', 'ghost': False, 'startTimeSeconds': 1268395200}, 'programmingLanguage': 'GNU C++17 (64)', 'verdict': 'OK', 'testset': 'TESTS', 'passedTestCount': 20, 'timeConsumedMillis': 0, 'memoryConsumedBytes': 0}, {'id': 181884542, 'contestId': 4, 'creationTimeSeconds': 1669036414, 'relativeTimeSeconds': 2147483647, 'problem': {'contestId': 4, 'index': 'C', 'name': 'Registration System', 'type': 'PROGRAMMING', 'rating': 1300, 'tags': ['data structures', 'hashing', 'implementation']}, 'author': {'contestId': 4, 'members': [{'handle': 'vjudge5'}], 'participantType': 'PRACTICE', 'ghost': False, 'startTimeSeconds': 1268395200}, 'programmingLanguage': 'GNU C++17', 'verdict': 'OK', 'testset': 'TESTS', 'passedTestCount': 25, 'timeConsumedMillis': 1434, 'memoryConsumedBytes': 921600}, {'id': 181884512, 'contestId': 4, 'creationTimeSeconds': 1669036396, 'relativeTimeSeconds': 2147483647, 'problem': {'contestId': 4, 'index': 'A', 'name': 'Watermelon', 'type': 'PROGRAMMING', 'rating': 800, 'tags': ['brute force', 'math']}, 'author': {'contestId': 4, 'members': [{'handle': 'vjudge2'}], 'participantType': 'PRACTICE', 'ghost': False, 'startTimeSeconds': 1268395200}, 'programmingLanguage': 'MS C++ 2017', 'verdict': 'WRONG_ANSWER', 'testset': 'TESTS', 'passedTestCount': 4, 'timeConsumedMillis': 0, 'memoryConsumedBytes': 0}, {'id': 181884505, 'contestId': 4, 'creationTimeSeconds': 1669036394, 'relativeTimeSeconds': 2147483647, 'problem': {'contestId': 4, 'index': 'A', 'name': 'Watermelon', 'type': 'PROGRAMMING', 'rating': 800, 'tags': ['brute force', 'math']}, 'author': {'contestId': 4, 'members': [{'handle': 'yazeed_911'}], 'participantType': 'PRACTICE', 'ghost': False, 'startTimeSeconds': 1268395200}, 'programmingLanguage': 'GNU C++17 (64)', 'verdict': 'OK', 'testset': 'TESTS', 'passedTestCount': 20, 'timeConsumedMillis': 0, 'memoryConsumedBytes': 0}, {'id': 181884470, 'contestId': 4, 'creationTimeSeconds': 1669036376, 'relativeTimeSeconds': 2147483647, 'problem': {'contestId': 4, 'index': 'A', 'name': 'Watermelon', 'type': 'PROGRAMMING', 'rating': 800, 'tags': ['brute force', 'math']}, 'author': {'contestId': 4, 'members': [{'handle': 'bkifhr7'}], 'participantType': 'PRACTICE', 'ghost': False, 'startTimeSeconds': 1268395200}, 'programmingLanguage': 'GNU C++17 (64)', 'verdict': 'COMPILATION_ERROR', 'testset': 'TESTS', 'passedTestCount': 0, 'timeConsumedMillis': 0, 'memoryConsumedBytes': 0}, {'id': 181884433, 'contestId': 4, 'creationTimeSeconds': 1669036355, 'relativeTimeSeconds': 2147483647, 'problem': {'contestId': 4, 'index': 'A', 'name': 'Watermelon', 'type': 'PROGRAMMING', 'rating': 800, 'tags': ['brute force', 'math']}, 'author': {'contestId': 4, 'members': [{'handle': 'Jakia_2123'}], 'participantType': 'PRACTICE', 'ghost': False, 'startTimeSeconds': 1268395200}, 'programmingLanguage': 'MS C++ 2017', 'verdict': 'WRONG_ANSWER', 'testset': 'TESTS', 'passedTestCount': 1, 'timeConsumedMillis': 0, 'memoryConsumedBytes': 0}, {'id': 181883519, 'contestId': 5, 'creationTimeSeconds': 1669035860, 'relativeTimeSeconds': 2147483647, 'problem': {'contestId': 5, 'index': 'A', 'name': 'Chat Servers Outgoing Traffic', 'type': 'PROGRAMMING', 'rating': 1000, 'tags': ['implementation']}, 'author': {'contestId': 5, 'members': [{'handle': 'Luli284860'}], 'participantType': 'PRACTICE', 'ghost': False, 'startTimeSeconds': 1269100800}, 'programmingLanguage': 'GNU C++14', 'verdict': 'OK', 'testset': 'TESTS', 'passedTestCount': 30, 'timeConsumedMillis': 30, 'memoryConsumedBytes': 204800}, {'id': 181882657, 'contestId': 5, 'creationTimeSeconds': 1669035370, 'relativeTimeSeconds': 2147483647, 'problem': {'contestId': 5, 'index': 'A', 'name': 'Chat Servers Outgoing Traffic', 'type': 'PROGRAMMING', 'rating': 1000, 'tags': ['implementation']}, 'author': {'contestId': 5, 'members': [{'handle': 'Luli284860'}], 'participantType': 'PRACTICE', 'ghost': False, 'startTimeSeconds': 1269100800}, 'programmingLanguage': 'GNU C++14', 'verdict': 'WRONG_ANSWER', 'testset': 'TESTS', 'passedTestCount': 0, 'timeConsumedMillis': 0, 'memoryConsumedBytes': 0}, {'id': 181882512, 'contestId': 5, 'creationTimeSeconds': 1669035295, 'relativeTimeSeconds': 2147483647, 'problem': {'contestId': 5, 'index': 'A', 'name': 'Chat Servers Outgoing Traffic', 'type': 'PROGRAMMING', 'rating': 1000, 'tags': ['implementation']}, 'author': {'contestId': 5, 'members': [{'handle': 'Hujl'}], 'participantType': 'PRACTICE', 'ghost': False, 'startTimeSeconds': 1269100800}, 'programmingLanguage': 'GNU C11', 'verdict': 'COMPILATION_ERROR', 'testset': 'TESTS', 'passedTestCount': 0, 'timeConsumedMillis': 0, 'memoryConsumedBytes': 0}, {'id': 181882427, 'contestId': 5, 'creationTimeSeconds': 1669035243, 'relativeTimeSeconds': 2147483647, 'problem': {'contestId': 5, 'index': 'A', 'name': 'Chat Servers Outgoing Traffic', 'type': 'PROGRAMMING', 'rating': 1000, 'tags': ['implementation']}, 'author': {'contestId': 5, 'members': [{'handle': 'Luli284860'}], 'participantType': 'PRACTICE', 'ghost': False, 'startTimeSeconds': 1269100800}, 'programmingLanguage': 'GNU C++14', 'verdict': 'WRONG_ANSWER', 'testset': 'TESTS', 'passedTestCount': 0, 'timeConsumedMillis': 0, 'memoryConsumedBytes': 0}, {'id': 181882324, 'contestId': 5, 'creationTimeSeconds': 1669035194, 'relativeTimeSeconds': 2147483647, 'problem': {'contestId': 5, 'index': 'A', 'name': 'Chat Servers Outgoing Traffic', 'type': 'PROGRAMMING', 'rating': 1000, 'tags': ['implementation']}, 'author': {'contestId': 5, 'members': [{'handle': 'tongwentao'}], 'participantType': 'PRACTICE', 'ghost': False, 'startTimeSeconds': 1269100800}, 'programmingLanguage': 'GNU C++17 (64)', 'verdict': 'OK', 'testset': 'TESTS', 'passedTestCount': 30, 'timeConsumedMillis': 30, 'memoryConsumedBytes': 0}, {'id': 181880106, 'contestId': 5, 'creationTimeSeconds': 1669034046, 'relativeTimeSeconds': 2147483647, 'problem': {'contestId': 5, 'index': 'C', 'name': 'Longest Regular Bracket Sequence', 'type': 'PROGRAMMING', 'rating': 1900, 'tags': ['constructive algorithms', 'data structures', 'dp', 'greedy', 'sortings', 'strings']}, 'author': {'contestId': 5, 'members': [{'handle': 'luogu_bot2'}], 'participantType': 'PRACTICE', 'ghost': False, 'startTimeSeconds': 1269100800}, 'programmingLanguage': 'GNU C++14', 'verdict': 'WRONG_ANSWER', 'testset': 'TESTS', 'passedTestCount': 2, 'timeConsumedMillis': 30, 'memoryConsumedBytes': 0}, {'id': 181879726, 'contestId': 5, 'creationTimeSeconds': 1669033834, 'relativeTimeSeconds': 2147483647, 'problem': {'contestId': 5, 'index': 'C', 'name': 'Longest Regular Bracket Sequence', 'type': 'PROGRAMMING', 'rating': 1900, 'tags': ['constructive algorithms', 'data structures', 'dp', 'greedy', 'sortings', 'strings']}, 'author': {'contestId': 5, 'members': [{'handle': 'luogu_bot2'}], 'participantType': 'PRACTICE', 'ghost': False, 'startTimeSeconds': 1269100800}, 'programmingLanguage': 'GNU C++14', 'verdict': 'WRONG_ANSWER', 'testset': 'TESTS', 'passedTestCount': 2, 'timeConsumedMillis': 30, 'memoryConsumedBytes': 0}, {'id': 181878775, 'contestId': 5, 'creationTimeSeconds': 1669033335, 'relativeTimeSeconds': 2147483647, 'problem': {'contestId': 5, 'index': 'C', 'name': 'Longest Regular Bracket Sequence', 'type': 'PROGRAMMING', 'rating': 1900, 'tags': ['constructive algorithms', 'data structures', 'dp', 'greedy', 'sortings', 'strings']}, 'author': {'contestId': 5, 'members': [{'handle': 'luogu_bot3'}], 'participantType': 'PRACTICE', 'ghost': False, 'startTimeSeconds': 1269100800}, 'programmingLanguage': 'GNU C++14', 'verdict': 'WRONG_ANSWER', 'testset': 'TESTS', 'passedTestCount': 2, 'timeConsumedMillis': 30, 'memoryConsumedBytes': 0}, {'id': 181864340, 'contestId': 5, 'creationTimeSeconds': 1669024950, 'relativeTimeSeconds': 2147483647, 'problem': {'contestId': 5, 'index': 'A', 'name': 'Chat Servers Outgoing Traffic', 'type': 'PROGRAMMING', 'rating': 1000, 'tags': ['implementation']}, 'author': {'contestId': 5, 'members': [{'handle': 'maomao233'}], 'participantType': 'PRACTICE', 'ghost': False, 'startTimeSeconds': 1269100800}, 'programmingLanguage': 'GNU C++14', 'verdict': 'OK', 'testset': 'TESTS', 'passedTestCount': 30, 'timeConsumedMillis': 30, 'memoryConsumedBytes': 0}, {'id': 181860852, 'contestId': 5, 'creationTimeSeconds': 1669022657, 'relativeTimeSeconds': 2147483647, 'problem': {'contestId': 5, 'index': 'C', 'name': 'Longest Regular Bracket Sequence', 'type': 'PROGRAMMING', 'rating': 1900, 'tags': ['constructive algorithms', 'data structures', 'dp', 'greedy', 'sortings', 'strings']}, 'author': {'contestId': 5, 'members': [{'handle': 'bkifhr8'}], 'participantType': 'PRACTICE', 'ghost': False, 'startTimeSeconds': 1269100800}, 'programmingLanguage': 'GNU C++17', 'verdict': 'OK', 'testset': 'TESTS', 'passedTestCount': 43, 'timeConsumedMillis': 434, 'memoryConsumedBytes': 17408000}, {'id': 181885144, 'contestId': 6, 'creationTimeSeconds': 1669036738, 'relativeTimeSeconds': 2147483647, 'problem': {'contestId': 6, 'index': 'A', 'name': 'Triangle', 'type': 'PROGRAMMING', 'rating': 900, 'tags': ['brute force', 'geometry']}, 'author': {'contestId': 6, 'members': [{'handle': 'SY_nzwmb83'}], 'participantType': 'PRACTICE', 'ghost': False, 'startTimeSeconds': 1269673200}, 'programmingLanguage': 'GNU C++14', 'verdict': 'OK', 'testset': 'TESTS', 'passedTestCount': 83, 'timeConsumedMillis': 30, 'memoryConsumedBytes': 0}, {'id': 181878581, 'contestId': 6, 'creationTimeSeconds': 1669033227, 'relativeTimeSeconds': 2147483647, 'problem': {'contestId': 6, 'index': 'B', 'name': \"President's Office\", 'type': 'PROGRAMMING', 'rating': 1100, 'tags': ['implementation']}, 'author': {'contestId': 6, 'members': [{'handle': '3ksc03'}], 'participantType': 'PRACTICE', 'ghost': False, 'startTimeSeconds': 1269673200}, 'programmingLanguage': 'GNU C++14', 'verdict': 'OK', 'testset': 'TESTS', 'passedTestCount': 32, 'timeConsumedMillis': 15, 'memoryConsumedBytes': 819200}, {'id': 181873125, 'contestId': 6, 'creationTimeSeconds': 1669030334, 'relativeTimeSeconds': 2147483647, 'problem': {'contestId': 6, 'index': 'C', 'name': 'Alice, Bob and Chocolate', 'type': 'PROGRAMMING', 'rating': 1200, 'tags': ['greedy', 'two pointers']}, 'author': {'contestId': 6, 'members': [{'handle': 'codingnoobAditya'}], 'participantType': 'PRACTICE', 'ghost': False, 'startTimeSeconds': 1269673200}, 'programmingLanguage': 'GNU C++14', 'verdict': 'OK', 'testset': 'TESTS', 'passedTestCount': 40, 'timeConsumedMillis': 186, 'memoryConsumedBytes': 409600}, {'id': 181873051, 'contestId': 6, 'creationTimeSeconds': 1669030296, 'relativeTimeSeconds': 2147483647, 'problem': {'contestId': 6, 'index': 'C', 'name': 'Alice, Bob and Chocolate', 'type': 'PROGRAMMING', 'rating': 1200, 'tags': ['greedy', 'two pointers']}, 'author': {'contestId': 6, 'members': [{'handle': 'codingnoobAditya'}], 'participantType': 'PRACTICE', 'ghost': False, 'startTimeSeconds': 1269673200}, 'programmingLanguage': 'GNU C++14', 'verdict': 'COMPILATION_ERROR', 'testset': 'TESTS', 'passedTestCount': 0, 'timeConsumedMillis': 0, 'memoryConsumedBytes': 0}, {'id': 181873019, 'contestId': 6, 'creationTimeSeconds': 1669030280, 'relativeTimeSeconds': 2147483647, 'problem': {'contestId': 6, 'index': 'C', 'name': 'Alice, Bob and Chocolate', 'type': 'PROGRAMMING', 'rating': 1200, 'tags': ['greedy', 'two pointers']}, 'author': {'contestId': 6, 'members': [{'handle': 'codingnoobAditya'}], 'participantType': 'PRACTICE', 'ghost': False, 'startTimeSeconds': 1269673200}, 'programmingLanguage': 'GNU C++14', 'verdict': 'COMPILATION_ERROR', 'testset': 'TESTS', 'passedTestCount': 0, 'timeConsumedMillis': 0, 'memoryConsumedBytes': 0}, {'id': 181872946, 'contestId': 6, 'creationTimeSeconds': 1669030237, 'relativeTimeSeconds': 2147483647, 'problem': {'contestId': 6, 'index': 'C', 'name': 'Alice, Bob and Chocolate', 'type': 'PROGRAMMING', 'rating': 1200, 'tags': ['greedy', 'two pointers']}, 'author': {'contestId': 6, 'members': [{'handle': 'codingnoobAditya'}], 'participantType': 'PRACTICE', 'ghost': False, 'startTimeSeconds': 1269673200}, 'programmingLanguage': 'GNU C++14', 'verdict': 'COMPILATION_ERROR', 'testset': 'TESTS', 'passedTestCount': 0, 'timeConsumedMillis': 0, 'memoryConsumedBytes': 0}, {'id': 181872797, 'contestId': 6, 'creationTimeSeconds': 1669030171, 'relativeTimeSeconds': 2147483647, 'problem': {'contestId': 6, 'index': 'C', 'name': 'Alice, Bob and Chocolate', 'type': 'PROGRAMMING', 'rating': 1200, 'tags': ['greedy', 'two pointers']}, 'author': {'contestId': 6, 'members': [{'handle': 'codingnoobAditya'}], 'participantType': 'PRACTICE', 'ghost': False, 'startTimeSeconds': 1269673200}, 'programmingLanguage': 'GNU C++14', 'verdict': 'COMPILATION_ERROR', 'testset': 'TESTS', 'passedTestCount': 0, 'timeConsumedMillis': 0, 'memoryConsumedBytes': 0}, {'id': 181863911, 'contestId': 6, 'creationTimeSeconds': 1669024664, 'relativeTimeSeconds': 2147483647, 'problem': {'contestId': 6, 'index': 'A', 'name': 'Triangle', 'type': 'PROGRAMMING', 'rating': 900, 'tags': ['brute force', 'geometry']}, 'author': {'contestId': 6, 'members': [{'handle': 'Edward4762'}], 'participantType': 'PRACTICE', 'ghost': False, 'startTimeSeconds': 1269673200}, 'programmingLanguage': 'GNU C++14', 'verdict': 'OK', 'testset': 'TESTS', 'passedTestCount': 83, 'timeConsumedMillis': 30, 'memoryConsumedBytes': 0}, {'id': 181863738, 'contestId': 6, 'creationTimeSeconds': 1669024537, 'relativeTimeSeconds': 2147483647, 'problem': {'contestId': 6, 'index': 'A', 'name': 'Triangle', 'type': 'PROGRAMMING', 'rating': 900, 'tags': ['brute force', 'geometry']}, 'author': {'contestId': 6, 'members': [{'handle': 'Edward4762'}], 'participantType': 'PRACTICE', 'ghost': False, 'startTimeSeconds': 1269673200}, 'programmingLanguage': 'GNU C++14', 'verdict': 'WRONG_ANSWER', 'testset': 'TESTS', 'passedTestCount': 18, 'timeConsumedMillis': 30, 'memoryConsumedBytes': 0}, {'id': 181861555, 'contestId': 6, 'creationTimeSeconds': 1669023045, 'relativeTimeSeconds': 2147483647, 'problem': {'contestId': 6, 'index': 'B', 'name': \"President's Office\", 'type': 'PROGRAMMING', 'rating': 1100, 'tags': ['implementation']}, 'author': {'contestId': 6, 'members': [{'handle': 'Osama.Rafat100'}], 'participantType': 'PRACTICE', 'ghost': False, 'startTimeSeconds': 1269673200}, 'programmingLanguage': 'GNU C++20 (64)', 'verdict': 'OK', 'testset': 'TESTS', 'passedTestCount': 32, 'timeConsumedMillis': 15, 'memoryConsumedBytes': 0}, {'id': 181884924, 'contestId': 7, 'creationTimeSeconds': 1669036617, 'relativeTimeSeconds': 2147483647, 'problem': {'contestId': 7, 'index': 'D', 'name': 'Palindrome Degree', 'type': 'PROGRAMMING', 'rating': 2200, 'tags': ['hashing', 'strings']}, 'author': {'contestId': 7, 'members': [{'handle': 'Binary_1110011_'}], 'participantType': 'PRACTICE', 'ghost': False, 'startTimeSeconds': 1270136700}, 'programmingLanguage': 'GNU C++14', 'verdict': 'OK', 'testset': 'TESTS', 'passedTestCount': 60, 'timeConsumedMillis': 654, 'memoryConsumedBytes': 54067200}, {'id': 181876020, 'contestId': 7, 'creationTimeSeconds': 1669031847, 'relativeTimeSeconds': 2147483647, 'problem': {'contestId': 7, 'index': 'B', 'name': 'Memory Manager', 'type': 'PROGRAMMING', 'rating': 1600, 'tags': ['implementation']}, 'author': {'contestId': 7, 'members': [{'handle': 'giesmininkas'}], 'participantType': 'PRACTICE', 'ghost': False, 'startTimeSeconds': 1270136700}, 'programmingLanguage': 'GNU C++20 (64)', 'verdict': 'OK', 'testset': 'TESTS', 'passedTestCount': 48, 'timeConsumedMillis': 30, 'memoryConsumedBytes': 0}, {'id': 181875929, 'contestId': 7, 'creationTimeSeconds': 1669031800, 'relativeTimeSeconds': 2147483647, 'problem': {'contestId': 7, 'index': 'B', 'name': 'Memory Manager', 'type': 'PROGRAMMING', 'rating': 1600, 'tags': ['implementation']}, 'author': {'contestId': 7, 'members': [{'handle': 'giesmininkas'}], 'participantType': 'PRACTICE', 'ghost': False, 'startTimeSeconds': 1270136700}, 'programmingLanguage': 'GNU C++20 (64)', 'verdict': 'WRONG_ANSWER', 'testset': 'TESTS', 'passedTestCount': 41, 'timeConsumedMillis': 30, 'memoryConsumedBytes': 0}, {'id': 181875762, 'contestId': 7, 'creationTimeSeconds': 1669031715, 'relativeTimeSeconds': 2147483647, 'problem': {'contestId': 7, 'index': 'B', 'name': 'Memory Manager', 'type': 'PROGRAMMING', 'rating': 1600, 'tags': ['implementation']}, 'author': {'contestId': 7, 'members': [{'handle': 'giesmininkas'}], 'participantType': 'PRACTICE', 'ghost': False, 'startTimeSeconds': 1270136700}, 'programmingLanguage': 'GNU C++20 (64)', 'verdict': 'WRONG_ANSWER', 'testset': 'TESTS', 'passedTestCount': 1, 'timeConsumedMillis': 30, 'memoryConsumedBytes': 0}, {'id': 181871997, 'contestId': 7, 'creationTimeSeconds': 1669029708, 'relativeTimeSeconds': 2147483647, 'problem': {'contestId': 7, 'index': 'A', 'name': 'Kalevitch and Chess', 'type': 'PROGRAMMING', 'rating': 1100, 'tags': ['brute force', 'constructive algorithms']}, 'author': {'contestId': 7, 'members': [{'handle': 'santanhuahewu'}], 'participantType': 'PRACTICE', 'ghost': False, 'startTimeSeconds': 1270136700}, 'programmingLanguage': 'GNU C++14', 'verdict': 'OK', 'testset': 'TESTS', 'passedTestCount': 30, 'timeConsumedMillis': 30, 'memoryConsumedBytes': 0}, {'id': 181858074, 'contestId': 7, 'creationTimeSeconds': 1669020987, 'relativeTimeSeconds': 2147483647, 'problem': {'contestId': 7, 'index': 'A', 'name': 'Kalevitch and Chess', 'type': 'PROGRAMMING', 'rating': 1100, 'tags': ['brute force', 'constructive algorithms']}, 'author': {'contestId': 7, 'members': [{'handle': 'nowar_aboamash'}], 'participantType': 'PRACTICE', 'ghost': False, 'startTimeSeconds': 1270136700}, 'programmingLanguage': 'GNU C++17', 'verdict': 'OK', 'testset': 'TESTS', 'passedTestCount': 30, 'timeConsumedMillis': 30, 'memoryConsumedBytes': 0}, {'id': 181854568, 'contestId': 7, 'creationTimeSeconds': 1669018632, 'relativeTimeSeconds': 2147483647, 'problem': {'contestId': 7, 'index': 'D', 'name': 'Palindrome Degree', 'type': 'PROGRAMMING', 'rating': 2200, 'tags': ['hashing', 'strings']}, 'author': {'contestId': 7, 'members': [{'handle': 'Chao_zi'}], 'participantType': 'PRACTICE', 'ghost': False, 'startTimeSeconds': 1270136700}, 'programmingLanguage': 'GNU C++20 (64)', 'verdict': 'OK', 'testset': 'TESTS', 'passedTestCount': 60, 'timeConsumedMillis': 404, 'memoryConsumedBytes': 169779200}, {'id': 181854460, 'contestId': 7, 'creationTimeSeconds': 1669018564, 'relativeTimeSeconds': 2147483647, 'problem': {'contestId': 7, 'index': 'D', 'name': 'Palindrome Degree', 'type': 'PROGRAMMING', 'rating': 2200, 'tags': ['hashing', 'strings']}, 'author': {'contestId': 7, 'members': [{'handle': 'Chao_zi'}], 'participantType': 'PRACTICE', 'ghost': False, 'startTimeSeconds': 1270136700}, 'programmingLanguage': 'GNU C++20 (64)', 'verdict': 'TIME_LIMIT_EXCEEDED', 'testset': 'TESTS', 'passedTestCount': 11, 'timeConsumedMillis': 1000, 'memoryConsumedBytes': 163328000}, {'id': 181854349, 'contestId': 7, 'creationTimeSeconds': 1669018492, 'relativeTimeSeconds': 2147483647, 'problem': {'contestId': 7, 'index': 'D', 'name': 'Palindrome Degree', 'type': 'PROGRAMMING', 'rating': 2200, 'tags': ['hashing', 'strings']}, 'author': {'contestId': 7, 'members': [{'handle': 'Chao_zi'}], 'participantType': 'PRACTICE', 'ghost': False, 'startTimeSeconds': 1270136700}, 'programmingLanguage': 'GNU C++20 (64)', 'verdict': 'TIME_LIMIT_EXCEEDED', 'testset': 'TESTS', 'passedTestCount': 0, 'timeConsumedMillis': 1000, 'memoryConsumedBytes': 128921600}, {'id': 181854236, 'contestId': 7, 'creationTimeSeconds': 1669018419, 'relativeTimeSeconds': 2147483647, 'problem': {'contestId': 7, 'index': 'D', 'name': 'Palindrome Degree', 'type': 'PROGRAMMING', 'rating': 2200, 'tags': ['hashing', 'strings']}, 'author': {'contestId': 7, 'members': [{'handle': 'Chao_zi'}], 'participantType': 'PRACTICE', 'ghost': False, 'startTimeSeconds': 1270136700}, 'programmingLanguage': 'GNU C++20 (64)', 'verdict': 'TIME_LIMIT_EXCEEDED', 'testset': 'TESTS', 'passedTestCount': 0, 'timeConsumedMillis': 1000, 'memoryConsumedBytes': 127897600}, {'id': 181866398, 'contestId': 8, 'creationTimeSeconds': 1669026313, 'relativeTimeSeconds': 2147483647, 'problem': {'contestId': 8, 'index': 'B', 'name': 'Obsession with Robots', 'type': 'PROGRAMMING', 'rating': 1400, 'tags': ['constructive algorithms', 'graphs', 'implementation']}, 'author': {'contestId': 8, 'members': [{'handle': 'gaurish_codestar'}], 'participantType': 'PRACTICE', 'ghost': False, 'startTimeSeconds': 1270741500}, 'programmingLanguage': 'GNU C++20 (64)', 'verdict': 'WRONG_ANSWER', 'testset': 'TESTS', 'passedTestCount': 8, 'timeConsumedMillis': 30, 'memoryConsumedBytes': 0}, {'id': 181865783, 'contestId': 8, 'creationTimeSeconds': 1669025908, 'relativeTimeSeconds': 2147483647, 'problem': {'contestId': 8, 'index': 'B', 'name': 'Obsession with Robots', 'type': 'PROGRAMMING', 'rating': 1400, 'tags': ['constructive algorithms', 'graphs', 'implementation']}, 'author': {'contestId': 8, 'members': [{'handle': 'gaurish_codestar'}], 'participantType': 'PRACTICE', 'ghost': False, 'startTimeSeconds': 1270741500}, 'programmingLanguage': 'GNU C++20 (64)', 'verdict': 'WRONG_ANSWER', 'testset': 'TESTS', 'passedTestCount': 13, 'timeConsumedMillis': 30, 'memoryConsumedBytes': 0}, {'id': 181863406, 'contestId': 8, 'creationTimeSeconds': 1669024304, 'relativeTimeSeconds': 2147483647, 'problem': {'contestId': 8, 'index': 'B', 'name': 'Obsession with Robots', 'type': 'PROGRAMMING', 'rating': 1400, 'tags': ['constructive algorithms', 'graphs', 'implementation']}, 'author': {'contestId': 8, 'members': [{'handle': 'oukeree'}], 'participantType': 'PRACTICE', 'ghost': False, 'startTimeSeconds': 1270741500}, 'programmingLanguage': 'GNU C++17', 'verdict': 'OK', 'testset': 'TESTS', 'passedTestCount': 60, 'timeConsumedMillis': 62, 'memoryConsumedBytes': 4300800}, {'id': 181862024, 'contestId': 8, 'creationTimeSeconds': 1669023331, 'relativeTimeSeconds': 2147483647, 'problem': {'contestId': 8, 'index': 'B', 'name': 'Obsession with Robots', 'type': 'PROGRAMMING', 'rating': 1400, 'tags': ['constructive algorithms', 'graphs', 'implementation']}, 'author': {'contestId': 8, 'members': [{'handle': 'oukeree'}], 'participantType': 'PRACTICE', 'ghost': False, 'startTimeSeconds': 1270741500}, 'programmingLanguage': 'GNU C++17', 'verdict': 'WRONG_ANSWER', 'testset': 'TESTS', 'passedTestCount': 8, 'timeConsumedMillis': 30, 'memoryConsumedBytes': 307200}, {'id': 181861977, 'contestId': 8, 'creationTimeSeconds': 1669023301, 'relativeTimeSeconds': 2147483647, 'problem': {'contestId': 8, 'index': 'B', 'name': 'Obsession with Robots', 'type': 'PROGRAMMING', 'rating': 1400, 'tags': ['constructive algorithms', 'graphs', 'implementation']}, 'author': {'contestId': 8, 'members': [{'handle': 'oukeree'}], 'participantType': 'PRACTICE', 'ghost': False, 'startTimeSeconds': 1270741500}, 'programmingLanguage': 'GNU C++17', 'verdict': 'WRONG_ANSWER', 'testset': 'TESTS', 'passedTestCount': 8, 'timeConsumedMillis': 0, 'memoryConsumedBytes': 204800}, {'id': 181836394, 'contestId': 8, 'creationTimeSeconds': 1669000306, 'relativeTimeSeconds': 2147483647, 'problem': {'contestId': 8, 'index': 'B', 'name': 'Obsession with Robots', 'type': 'PROGRAMMING', 'rating': 1400, 'tags': ['constructive algorithms', 'graphs', 'implementation']}, 'author': {'contestId': 8, 'members': [{'handle': 'nohup'}], 'participantType': 'PRACTICE', 'ghost': False, 'startTimeSeconds': 1270741500}, 'programmingLanguage': 'Rust 2021', 'verdict': 'WRONG_ANSWER', 'testset': 'TESTS', 'passedTestCount': 20, 'timeConsumedMillis': 30, 'memoryConsumedBytes': 512000}, {'id': 181836316, 'contestId': 8, 'creationTimeSeconds': 1669000180, 'relativeTimeSeconds': 2147483647, 'problem': {'contestId': 8, 'index': 'B', 'name': 'Obsession with Robots', 'type': 'PROGRAMMING', 'rating': 1400, 'tags': ['constructive algorithms', 'graphs', 'implementation']}, 'author': {'contestId': 8, 'members': [{'handle': 'nohup'}], 'participantType': 'PRACTICE', 'ghost': False, 'startTimeSeconds': 1270741500}, 'programmingLanguage': 'Rust 2021', 'verdict': 'WRONG_ANSWER', 'testset': 'TESTS', 'passedTestCount': 8, 'timeConsumedMillis': 30, 'memoryConsumedBytes': 512000}, {'id': 181835517, 'contestId': 8, 'creationTimeSeconds': 1668999086, 'relativeTimeSeconds': 2147483647, 'problem': {'contestId': 8, 'index': 'A', 'name': 'Train and Peter', 'type': 'PROGRAMMING', 'rating': 1200, 'tags': ['strings']}, 'author': {'contestId': 8, 'members': [{'handle': 'nohup'}], 'participantType': 'PRACTICE', 'ghost': False, 'startTimeSeconds': 1270741500}, 'programmingLanguage': 'Rust 2021', 'verdict': 'OK', 'testset': 'TESTS', 'passedTestCount': 54, 'timeConsumedMillis': 30, 'memoryConsumedBytes': 1024000}, {'id': 181729125, 'contestId': 8, 'creationTimeSeconds': 1668943376, 'relativeTimeSeconds': 2147483647, 'problem': {'contestId': 8, 'index': 'C', 'name': 'Looking for Order', 'type': 'PROGRAMMING', 'rating': 2000, 'tags': ['bitmasks', 'dp']}, 'author': {'contestId': 8, 'members': [{'handle': 'Error_403'}], 'participantType': 'PRACTICE', 'ghost': False, 'startTimeSeconds': 1270741500}, 'programmingLanguage': 'GNU C++17', 'verdict': 'OK', 'testset': 'TESTS', 'passedTestCount': 35, 'timeConsumedMillis': 140, 'memoryConsumedBytes': 134451200}, {'id': 181723708, 'contestId': 8, 'creationTimeSeconds': 1668939934, 'relativeTimeSeconds': 2147483647, 'problem': {'contestId': 8, 'index': 'B', 'name': 'Obsession with Robots', 'type': 'PROGRAMMING', 'rating': 1400, 'tags': ['constructive algorithms', 'graphs', 'implementation']}, 'author': {'contestId': 8, 'members': [{'handle': 'Hyari'}], 'participantType': 'PRACTICE', 'ghost': False, 'startTimeSeconds': 1270741500}, 'programmingLanguage': 'GNU C++17', 'verdict': 'OK', 'testset': 'TESTS', 'passedTestCount': 60, 'timeConsumedMillis': 30, 'memoryConsumedBytes': 102400}, {'id': 181879459, 'contestId': 9, 'creationTimeSeconds': 1669033688, 'relativeTimeSeconds': 2147483647, 'problem': {'contestId': 9, 'index': 'A', 'name': 'Die Roll', 'type': 'PROGRAMMING', 'rating': 800, 'tags': ['math', 'probabilities']}, 'author': {'contestId': 9, 'members': [{'handle': 'vjudge3'}], 'participantType': 'PRACTICE', 'ghost': False, 'startTimeSeconds': 1270983600}, 'programmingLanguage': 'Java 8', 'verdict': 'OK', 'testset': 'TESTS', 'passedTestCount': 36, 'timeConsumedMillis': 218, 'memoryConsumedBytes': 3788800}, {'id': 181876071, 'contestId': 9, 'creationTimeSeconds': 1669031872, 'relativeTimeSeconds': 2147483647, 'problem': {'contestId': 9, 'index': 'C', 'name': \"Hexadecimal's Numbers\", 'type': 'PROGRAMMING', 'rating': 1200, 'tags': ['brute force', 'implementation', 'math']}, 'author': {'contestId': 9, 'members': [{'handle': 'thenoobiecoder'}], 'participantType': 'PRACTICE', 'ghost': False, 'startTimeSeconds': 1270983600}, 'programmingLanguage': 'GNU C++17', 'verdict': 'OK', 'testset': 'TESTS', 'passedTestCount': 36, 'timeConsumedMillis': 30, 'memoryConsumedBytes': 204800}, {'id': 181875866, 'contestId': 9, 'creationTimeSeconds': 1669031768, 'relativeTimeSeconds': 2147483647, 'problem': {'contestId': 9, 'index': 'A', 'name': 'Die Roll', 'type': 'PROGRAMMING', 'rating': 800, 'tags': ['math', 'probabilities']}, 'author': {'contestId': 9, 'members': [{'handle': 'Hughpiggy'}], 'participantType': 'PRACTICE', 'ghost': False, 'startTimeSeconds': 1270983600}, 'programmingLanguage': 'GNU C++14', 'verdict': 'OK', 'testset': 'TESTS', 'passedTestCount': 36, 'timeConsumedMillis': 62, 'memoryConsumedBytes': 0}, {'id': 181874360, 'contestId': 9, 'creationTimeSeconds': 1669030954, 'relativeTimeSeconds': 2147483647, 'problem': {'contestId': 9, 'index': 'C', 'name': \"Hexadecimal's Numbers\", 'type': 'PROGRAMMING', 'rating': 1200, 'tags': ['brute force', 'implementation', 'math']}, 'author': {'contestId': 9, 'members': [{'handle': 'thenoobiecoder'}], 'participantType': 'PRACTICE', 'ghost': False, 'startTimeSeconds': 1270983600}, 'programmingLanguage': 'GNU C++17', 'verdict': 'WRONG_ANSWER', 'testset': 'TESTS', 'passedTestCount': 4, 'timeConsumedMillis': 0, 'memoryConsumedBytes': 0}, {'id': 181866966, 'contestId': 9, 'creationTimeSeconds': 1669026686, 'relativeTimeSeconds': 2147483647, 'problem': {'contestId': 9, 'index': 'A', 'name': 'Die Roll', 'type': 'PROGRAMMING', 'rating': 800, 'tags': ['math', 'probabilities']}, 'author': {'contestId': 9, 'members': [{'handle': 'benchouikha01'}], 'participantType': 'PRACTICE', 'ghost': False, 'startTimeSeconds': 1270983600}, 'programmingLanguage': 'GNU C++17', 'verdict': 'OK', 'testset': 'TESTS', 'passedTestCount': 36, 'timeConsumedMillis': 30, 'memoryConsumedBytes': 0}, {'id': 181861258, 'contestId': 9, 'creationTimeSeconds': 1669022872, 'relativeTimeSeconds': 2147483647, 'problem': {'contestId': 9, 'index': 'A', 'name': 'Die Roll', 'type': 'PROGRAMMING', 'rating': 800, 'tags': ['math', 'probabilities']}, 'author': {'contestId': 9, 'members': [{'handle': 'mahdi_bruh'}], 'participantType': 'PRACTICE', 'ghost': False, 'startTimeSeconds': 1270983600}, 'programmingLanguage': 'GNU C++14', 'verdict': 'OK', 'testset': 'TESTS', 'passedTestCount': 36, 'timeConsumedMillis': 0, 'memoryConsumedBytes': 0}, {'id': 181861154, 'contestId': 9, 'creationTimeSeconds': 1669022811, 'relativeTimeSeconds': 2147483647, 'problem': {'contestId': 9, 'index': 'A', 'name': 'Die Roll', 'type': 'PROGRAMMING', 'rating': 800, 'tags': ['math', 'probabilities']}, 'author': {'contestId': 9, 'members': [{'handle': 'mahdi_bruh'}], 'participantType': 'PRACTICE', 'ghost': False, 'startTimeSeconds': 1270983600}, 'programmingLanguage': 'GNU C++14', 'verdict': 'WRONG_ANSWER', 'testset': 'TESTS', 'passedTestCount': 1, 'timeConsumedMillis': 0, 'memoryConsumedBytes': 0}, {'id': 181857903, 'contestId': 9, 'creationTimeSeconds': 1669020883, 'relativeTimeSeconds': 2147483647, 'problem': {'contestId': 9, 'index': 'A', 'name': 'Die Roll', 'type': 'PROGRAMMING', 'rating': 800, 'tags': ['math', 'probabilities']}, 'author': {'contestId': 9, 'members': [{'handle': 'wahb'}], 'participantType': 'PRACTICE', 'ghost': False, 'startTimeSeconds': 1270983600}, 'programmingLanguage': 'GNU C++17', 'verdict': 'OK', 'testset': 'TESTS', 'passedTestCount': 36, 'timeConsumedMillis': 30, 'memoryConsumedBytes': 0}, {'id': 181856365, 'contestId': 9, 'creationTimeSeconds': 1669019829, 'relativeTimeSeconds': 2147483647, 'problem': {'contestId': 9, 'index': 'A', 'name': 'Die Roll', 'type': 'PROGRAMMING', 'rating': 800, 'tags': ['math', 'probabilities']}, 'author': {'contestId': 9, 'members': [{'handle': '20501A0541'}], 'participantType': 'PRACTICE', 'ghost': False, 'startTimeSeconds': 1270983600}, 'programmingLanguage': 'GNU C++14', 'verdict': 'OK', 'testset': 'TESTS', 'passedTestCount': 36, 'timeConsumedMillis': 30, 'memoryConsumedBytes': 0}, {'id': 181856195, 'contestId': 9, 'creationTimeSeconds': 1669019714, 'relativeTimeSeconds': 2147483647, 'problem': {'contestId': 9, 'index': 'A', 'name': 'Die Roll', 'type': 'PROGRAMMING', 'rating': 800, 'tags': ['math', 'probabilities']}, 'author': {'contestId': 9, 'members': [{'handle': '20501A0541'}], 'participantType': 'PRACTICE', 'ghost': False, 'startTimeSeconds': 1270983600}, 'programmingLanguage': 'GNU C++14', 'verdict': 'WRONG_ANSWER', 'testset': 'TESTS', 'passedTestCount': 0, 'timeConsumedMillis': 0, 'memoryConsumedBytes': 0}]\n",
            "WORKED\n"
          ]
        }
      ]
    },
    {
      "cell_type": "code",
      "source": [
        "for contest_status in contest_data:\n",
        "  contest_id=contest_status['contestId']\n",
        "  problem_index = contest_status['problem']['index']\n",
        "  problem_name = contest_status['problem']['name']\n",
        "  problem_tags = contest_status['problem']['tags']\n",
        "  handle_name = contest_status['author']['members'][0]['handle']\n",
        "  handle_programmingLanguage = contest_status['programmingLanguage']\n",
        "  contest_status_df1=contest_status_df1.append({'contestId':contest_id,'handle_name':handle_name,'ProgrammingLanguage':handle_programmingLanguage,\n",
        "                                              'Problem_Index':problem_index,'Problem_Name':problem_name,'Problem_tags':problem_tags},ignore_index=True)"
      ],
      "metadata": {
        "id": "2wb0nX5SWp2e"
      },
      "execution_count": 22,
      "outputs": []
    },
    {
      "cell_type": "code",
      "source": [
        "contest_status_df1"
      ],
      "metadata": {
        "id": "snQFCwkIWxTU"
      },
      "execution_count": null,
      "outputs": []
    },
    {
      "cell_type": "code",
      "source": [
        "contest_status_df1.dtypes"
      ],
      "metadata": {
        "colab": {
          "base_uri": "https://localhost:8080/"
        },
        "id": "EI91g6YRWzqs",
        "outputId": "6ebaa62f-5a18-427a-b329-d721431b4a3c"
      },
      "execution_count": 24,
      "outputs": [
        {
          "output_type": "execute_result",
          "data": {
            "text/plain": [
              "contestId              object\n",
              "handle_name            object\n",
              "ProgrammingLanguage    object\n",
              "Problem_Index          object\n",
              "Problem_Name           object\n",
              "Problem_tags           object\n",
              "dtype: object"
            ]
          },
          "metadata": {},
          "execution_count": 24
        }
      ]
    },
    {
      "cell_type": "code",
      "source": [
        "contest_status_df1.isna().sum()"
      ],
      "metadata": {
        "colab": {
          "base_uri": "https://localhost:8080/"
        },
        "id": "47IwPLqxW5nV",
        "outputId": "66d38a92-d3f2-4fcc-964a-9ce532d07ef0"
      },
      "execution_count": 25,
      "outputs": [
        {
          "output_type": "execute_result",
          "data": {
            "text/plain": [
              "contestId              0\n",
              "handle_name            0\n",
              "ProgrammingLanguage    0\n",
              "Problem_Index          0\n",
              "Problem_Name           0\n",
              "Problem_tags           0\n",
              "dtype: int64"
            ]
          },
          "metadata": {},
          "execution_count": 25
        }
      ]
    },
    {
      "cell_type": "code",
      "source": [
        "contest_status_df1.isnull().sum()"
      ],
      "metadata": {
        "colab": {
          "base_uri": "https://localhost:8080/"
        },
        "id": "7JHG7_7XW7A0",
        "outputId": "cd48016a-60de-4dcf-b157-8a057f679ad1"
      },
      "execution_count": 26,
      "outputs": [
        {
          "output_type": "execute_result",
          "data": {
            "text/plain": [
              "contestId              0\n",
              "handle_name            0\n",
              "ProgrammingLanguage    0\n",
              "Problem_Index          0\n",
              "Problem_Name           0\n",
              "Problem_tags           0\n",
              "dtype: int64"
            ]
          },
          "metadata": {},
          "execution_count": 26
        }
      ]
    },
    {
      "cell_type": "code",
      "source": [
        "contest_status_df1.duplicated"
      ],
      "metadata": {
        "id": "Wv18FrdqW-qm"
      },
      "execution_count": null,
      "outputs": []
    },
    {
      "cell_type": "code",
      "source": [
        "contest_status_df1.head(5)"
      ],
      "metadata": {
        "id": "t2OtpDNnXMqj"
      },
      "execution_count": null,
      "outputs": []
    },
    {
      "cell_type": "code",
      "source": [
        "contest_status_df1.drop_duplicates(subset=['contestId', 'handle_name','ProgrammingLanguage','Problem_Index','Problem_Name'], keep='last',inplace=True)"
      ],
      "metadata": {
        "id": "nYGYFXn2XDik"
      },
      "execution_count": 28,
      "outputs": []
    },
    {
      "cell_type": "code",
      "source": [
        "contest_status_df1"
      ],
      "metadata": {
        "id": "6Zn6Q2lrXXG7"
      },
      "execution_count": null,
      "outputs": []
    },
    {
      "cell_type": "code",
      "source": [
        "contest_status_df1.to_excel('contest Status.xlsx')"
      ],
      "metadata": {
        "id": "qqevXW-aXaSu"
      },
      "execution_count": 32,
      "outputs": []
    },
    {
      "cell_type": "markdown",
      "source": [
        "Both contest rating and contest status cleaned data is stored in excel sheets, Futher these are used in analysis."
      ],
      "metadata": {
        "id": "dPYHzW4JXdwF"
      }
    }
  ]
}